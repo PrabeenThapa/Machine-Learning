{
 "cells": [
  {
   "cell_type": "markdown",
   "metadata": {},
   "source": [
    "### Array initialization"
   ]
  },
  {
   "cell_type": "code",
   "execution_count": 1,
   "metadata": {},
   "outputs": [
    {
     "name": "stdout",
     "output_type": "stream",
     "text": [
      "[2 3 4]\n"
     ]
    }
   ],
   "source": [
    "import numpy as np\n",
    "\n",
    "arr1 = np.array([2,3,4])\n",
    "print(arr1)"
   ]
  },
  {
   "cell_type": "code",
   "execution_count": 2,
   "metadata": {},
   "outputs": [
    {
     "name": "stdout",
     "output_type": "stream",
     "text": [
      "[[1. 2.]\n",
      " [3. 4.]]\n",
      "[[1. 2.]\n",
      " [3. 4.]]\n",
      "[[0. 0. 0.]\n",
      " [0. 0. 0.]]\n",
      "[[6.+0.j 6.+0.j 6.+0.j]\n",
      " [6.+0.j 6.+0.j 6.+0.j]]\n"
     ]
    }
   ],
   "source": [
    "#some other method of array creation\n",
    "\n",
    "#creating array by passing list and change types into float\n",
    "\n",
    "arr1 = np.array([[1,2],[3,4]], dtype=float)\n",
    "print(arr1)\n",
    "\n",
    "#creating array by passing tuples\n",
    "\n",
    "arr2 = np.array(((1,2),(3,4)), dtype=float)\n",
    "print(arr2)\n",
    "\n",
    "\n",
    "#creating 2X3 array with all zeros\n",
    "\n",
    "arr3= np.zeros((2,3))\n",
    "print(arr3)\n",
    "\n",
    "#creating array with constant value and dtype complex\n",
    "\n",
    "arr4=np.full((2,3), 6, dtype=complex)\n",
    "print(arr4)\n",
    "\n"
   ]
  },
  {
   "cell_type": "markdown",
   "metadata": {},
   "source": [
    "#### np.arange()\n"
   ]
  },
  {
   "cell_type": "code",
   "execution_count": 19,
   "metadata": {},
   "outputs": [
    {
     "name": "stdout",
     "output_type": "stream",
     "text": [
      "[20 18 16 14 12]\n",
      "[10 12 14 16 18]\n",
      "[[1 2 3]\n",
      " [4 5 6]\n",
      " [7 8 9]]\n"
     ]
    }
   ],
   "source": [
    "#used to generate an array within range with evenly distributed\n",
    "\n",
    "arr1 = np.arange(20,10,-2)\n",
    "arr2 = np.arange(10,20,2)\n",
    "arr3 = np.arange(1,10).reshape(3,3)\n",
    "\n",
    "print(arr1)\n",
    "print(arr2)\n",
    "print(arr3)"
   ]
  },
  {
   "cell_type": "markdown",
   "metadata": {},
   "source": [
    "#### np.linspace()"
   ]
  },
  {
   "cell_type": "code",
   "execution_count": 21,
   "metadata": {},
   "outputs": [
    {
     "name": "stdout",
     "output_type": "stream",
     "text": [
      "[2.   3.75 5.5  7.25 9.  ]\n"
     ]
    }
   ],
   "source": [
    "arr1 = np.linspace(2,9,5)#initialize array from start to end with total number of element\n",
    "print(arr1)"
   ]
  },
  {
   "cell_type": "markdown",
   "metadata": {},
   "source": [
    "### Array indexing"
   ]
  },
  {
   "cell_type": "code",
   "execution_count": 3,
   "metadata": {},
   "outputs": [
    {
     "name": "stdout",
     "output_type": "stream",
     "text": [
      "[[2 1]\n",
      " [7 8]]\n",
      "[[False False False  True]\n",
      " [ True  True  True False]\n",
      " [False False False  True]]\n",
      "Element greater than 3 are  [5 7 5 8 9]\n"
     ]
    }
   ],
   "source": [
    "#slicing array\n",
    "\n",
    "arr = np.array([[2,3,1,5],\n",
    "               [7,5,8,2],\n",
    "               [1,2,0,9]])\n",
    "\n",
    "\n",
    "temp = arr[:2,:3:2]\n",
    "print(temp)\n",
    "\n",
    "#boolean array indexing\n",
    "\n",
    "temp = arr > 3\n",
    "print(temp)\n",
    "\n",
    "#array greater than 3\n",
    "gret = arr[temp]\n",
    "print(\"Element greater than 3 are \",gret)"
   ]
  },
  {
   "cell_type": "markdown",
   "metadata": {},
   "source": [
    "### Basic operation on array"
   ]
  },
  {
   "cell_type": "code",
   "execution_count": 4,
   "metadata": {},
   "outputs": [
    {
     "name": "stdout",
     "output_type": "stream",
     "text": [
      "After addition: \n",
      " [[2 3]\n",
      " [4 5]]\n",
      "Sum of array a and b:\n",
      " [[ 6  8]\n",
      " [10 12]]\n",
      "Multiplication: (ans will be different then actual multiplication)\n",
      " [[ 5 12]\n",
      " [21 32]]\n",
      "Matrix multiplication: \n",
      " [[19 22]\n",
      " [43 50]]\n"
     ]
    }
   ],
   "source": [
    "a = np.array([[1,2],[3,4]])\n",
    "b = np.array([[5,6],[7,8]])\n",
    "\n",
    "#adding 1 to every element of a\n",
    "\n",
    "print(\"After addition: \\n\", a+1)\n",
    "\n",
    "print(\"Sum of array a and b:\\n\", a+b)\n",
    "\n",
    "print(\"Multiplication: (ans will be different then actual multiplication)\\n\",a*b)\n",
    "\n",
    "#matrix multiplication\n",
    "print(\"Matrix multiplication: \\n\", a.dot(b))"
   ]
  },
  {
   "cell_type": "markdown",
   "metadata": {},
   "source": [
    "### Other math operation on array"
   ]
  },
  {
   "cell_type": "code",
   "execution_count": 5,
   "metadata": {},
   "outputs": [
    {
     "name": "stdout",
     "output_type": "stream",
     "text": [
      "Array 1 :\n",
      " [[2 4 7 8]\n",
      " [5 6 7 9]]\n",
      "Sum of arr1 and arr2\n",
      " [[57 70 84 30]\n",
      " [71 61 84 97]]\n",
      "\n",
      "Square root of sum \n",
      " [[7.54983444 8.36660027 9.16515139 5.47722558]\n",
      " [8.42614977 7.81024968 9.16515139 9.8488578 ]]\n",
      "Transpose of array 1: \n",
      " [[2 5]\n",
      " [4 6]\n",
      " [7 7]\n",
      " [8 9]]\n",
      "Sine values of array elements: [0.0000000e+00 1.0000000e+00 1.2246468e-16]\n",
      "Exponent of array elements: [ 1.          2.71828183  7.3890561  20.08553692]\n"
     ]
    }
   ],
   "source": [
    "arr1 = np.array([[2,4,7,8],[5,6,7,9]])\n",
    "\n",
    "print(\"Array 1 :\\n\", arr1)\n",
    "\n",
    "arr2 = np.array([[55,66,77,22],[66,55,77,88]])\n",
    "\n",
    "sum = arr1+arr2\n",
    "#sum = np.add(arr1, arr2)\n",
    "print(\"Sum of arr1 and arr2\\n\",sum)\n",
    "\n",
    "sqrt = np.sqrt(sum)\n",
    "print(\"\\nSquare root of sum \\n\", sqrt)\n",
    "\n",
    "trasposeOfArray = np.transpose(arr1)\n",
    "\n",
    "print(\"Transpose of array 1: \\n\", trasposeOfArray)\n",
    "\n",
    "# create an array of sine values\n",
    "a = np.array([0, np.pi/2, np.pi])\n",
    "print (\"Sine values of array elements:\", np.sin(a))\n",
    " \n",
    "# exponential values\n",
    "a = np.array([0, 1, 2, 3])\n",
    "print (\"Exponent of array elements:\", np.exp(a))"
   ]
  },
  {
   "cell_type": "markdown",
   "metadata": {},
   "source": [
    "### Basic array characteristics"
   ]
  },
  {
   "cell_type": "code",
   "execution_count": 6,
   "metadata": {},
   "outputs": [
    {
     "name": "stdout",
     "output_type": "stream",
     "text": [
      "Dimension of array:  2\n",
      "Shape of array: (2, 2)\n",
      "Type of array is:  <class 'numpy.ndarray'>\n",
      "Type of element: int64\n"
     ]
    }
   ],
   "source": [
    "arr = np.array([[1,2],\n",
    "               [3,4]])\n",
    "\n",
    "#dimesion of array\n",
    "print(\"Dimension of array: \", arr.ndim)\n",
    "\n",
    "#shape of array\n",
    "print(\"Shape of array:\", arr.shape)\n",
    "\n",
    "#type of array\n",
    "print(\"Type of array is: \", type(arr))\n",
    "\n",
    "#type of element of an array\n",
    "print(\"Type of element:\", arr.dtype)\n",
    "\n"
   ]
  }
 ],
 "metadata": {
  "kernelspec": {
   "display_name": ".venv",
   "language": "python",
   "name": "python3"
  },
  "language_info": {
   "codemirror_mode": {
    "name": "ipython",
    "version": 3
   },
   "file_extension": ".py",
   "mimetype": "text/x-python",
   "name": "python",
   "nbconvert_exporter": "python",
   "pygments_lexer": "ipython3",
   "version": "3.12.3"
  }
 },
 "nbformat": 4,
 "nbformat_minor": 2
}

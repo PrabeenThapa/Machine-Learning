{
 "cells": [
  {
   "cell_type": "markdown",
   "metadata": {},
   "source": [
    "### view() and copy() of an array"
   ]
  },
  {
   "cell_type": "code",
   "execution_count": 7,
   "metadata": {},
   "outputs": [
    {
     "name": "stdout",
     "output_type": "stream",
     "text": [
      "[ 2  4  6  8 10 12 14]\n",
      "\n",
      "ID on view:  140679714982960\n",
      "\n",
      "Original ID:  140679967352624\n",
      "\n",
      "Copied array : [ 2  4  6  8 10 12 14]\n"
     ]
    }
   ],
   "source": [
    "import numpy as np\n",
    "\n",
    "#view\n",
    "\n",
    "arr = np.arange(2,16,2)\n",
    "print(arr)\n",
    "\n",
    "v = arr.view()\n",
    "\n",
    "print(\"\\nID on view: \",id(v))\n",
    "print(\"\\nOriginal ID: \",id(arr))\n",
    "#view is used when we need to perform operations on large arrays without the overhead of copying data.\n",
    "\n",
    "#copy\n",
    "\n",
    "c = arr.copy()\n",
    "print(\"\\nCopied array :\", c)\n",
    "#copy is used when the original data should remain unchanged."
   ]
  },
  {
   "cell_type": "markdown",
   "metadata": {},
   "source": [
    "### different way to copy an array"
   ]
  },
  {
   "cell_type": "code",
   "execution_count": 15,
   "metadata": {},
   "outputs": [
    {
     "name": "stdout",
     "output_type": "stream",
     "text": [
      "Original array: \n",
      " [[1 2]\n",
      " [3 4]]\n",
      "\n",
      "Copied array:\n",
      " [[1 2]\n",
      " [3 4]]\n",
      "\n",
      "Original array: \n",
      " [[33  2]\n",
      " [ 3  4]]\n",
      "\n",
      "Copied array:\n",
      " [[1 2]\n",
      " [3 4]]\n"
     ]
    }
   ],
   "source": [
    "#using .copy()\n",
    "\n",
    "arr1 = np.array([[1,2],[3,4]])\n",
    "\n",
    "arr2 = np.copy(arr1)\n",
    "\n",
    "print(\"Original array: \\n\",arr1)\n",
    "print(\"\\nCopied array:\\n\",arr2)\n",
    "\n",
    "#on applying some modification on original array\n",
    "arr1[0,0]=33\n",
    "\n",
    "print(\"\\nOriginal array: \\n\",arr1)\n",
    "print(\"\\nCopied array:\\n\",arr2)"
   ]
  },
  {
   "cell_type": "code",
   "execution_count": 16,
   "metadata": {},
   "outputs": [
    {
     "name": "stdout",
     "output_type": "stream",
     "text": [
      "Original array: \n",
      " [[1 2]\n",
      " [3 4]]\n",
      "\n",
      "Copied array:\n",
      " [[1 2]\n",
      " [3 4]]\n",
      "\n",
      "Original array: \n",
      " [[33  2]\n",
      " [ 3  4]]\n",
      "\n",
      "Copied array:\n",
      " [[33  2]\n",
      " [ 3  4]]\n"
     ]
    }
   ],
   "source": [
    "#using direct assignment operator\n",
    "\n",
    "arr1 = np.array([[1,2],[3,4]])\n",
    "\n",
    "arr2 = arr1\n",
    "\n",
    "print(\"Original array: \\n\",arr1)\n",
    "print(\"\\nCopied array:\\n\",arr2)\n",
    "\n",
    "#on applying some modification on original array\n",
    "arr1[0,0]=33\n",
    "\n",
    "print(\"\\nOriginal array: \\n\",arr1)\n",
    "print(\"\\nCopied array:\\n\",arr2)"
   ]
  },
  {
   "cell_type": "markdown",
   "metadata": {},
   "source": [
    "### appending values at the end of the array"
   ]
  },
  {
   "cell_type": "markdown",
   "metadata": {},
   "source": [
    "#### using .append()"
   ]
  },
  {
   "cell_type": "code",
   "execution_count": 22,
   "metadata": {},
   "outputs": [
    {
     "name": "stdout",
     "output_type": "stream",
     "text": [
      "Original array:\n",
      " [[33  2]\n",
      " [ 3  4]]\n",
      "After appeding: \n",
      " [33  2  3  4 11 22]\n"
     ]
    }
   ],
   "source": [
    "print(\"Original array:\\n\", arr1)\n",
    "\n",
    "arr2 = np.append(arr1, [11,22])\n",
    "print(\"After appeding: \\n\", arr2)"
   ]
  },
  {
   "cell_type": "markdown",
   "metadata": {},
   "source": [
    "#### using .concatinate"
   ]
  },
  {
   "cell_type": "code",
   "execution_count": 27,
   "metadata": {},
   "outputs": [
    {
     "name": "stdout",
     "output_type": "stream",
     "text": [
      "Array after concatenation: \n",
      " [[22 33]\n",
      " [11 22]\n",
      " [ 2  3]]\n"
     ]
    }
   ],
   "source": [
    "arr1 = np.array([[22,33],[11,22]])\n",
    "\n",
    "arr2 = np.array([[2,3]])\n",
    "\n",
    "arr3 = np.concatenate((arr1, arr2), axis=0)\n",
    "\n",
    "print(\"Array after concatenation: \\n\",arr3)"
   ]
  },
  {
   "cell_type": "code",
   "execution_count": 33,
   "metadata": {},
   "outputs": [
    {
     "name": "stdout",
     "output_type": "stream",
     "text": [
      "[3.  4.  5.  2.2 4.1]\n",
      "<class 'numpy.ndarray'> \n",
      " float64\n"
     ]
    }
   ],
   "source": [
    "#with different data type\n",
    "\n",
    "arr1 = np.array([3,4,5])\n",
    "arr2 = np.array([2.2,4.1])\n",
    "\n",
    "arr3 = np.concatenate((arr1,arr2))\n",
    "print(arr3)\n",
    "print(type(arr3),\"\\n\",arr3.dtype)"
   ]
  },
  {
   "cell_type": "markdown",
   "metadata": {},
   "source": [
    "### swapping column of an array"
   ]
  },
  {
   "cell_type": "code",
   "execution_count": 41,
   "metadata": {},
   "outputs": [
    {
     "name": "stdout",
     "output_type": "stream",
     "text": [
      "Original array:\n",
      " [[0 1 2]\n",
      " [3 4 5]\n",
      " [6 7 8]]\n",
      "After swapping:\n",
      " [[2 1 0]\n",
      " [5 4 3]\n",
      " [8 7 6]]\n"
     ]
    }
   ],
   "source": [
    "import numpy as np\n",
    "\n",
    "arr = np.arange(9).reshape(3,3)\n",
    "print(\"Original array:\\n\",arr)\n",
    "\n",
    "arr[:, [0,2]]= arr[:,[2,0]]\n",
    "#on swapping first column with third column\n",
    "print(\"After swapping:\\n\", arr)"
   ]
  },
  {
   "cell_type": "markdown",
   "metadata": {},
   "source": [
    "#### creating function for swapping of column"
   ]
  },
  {
   "cell_type": "code",
   "execution_count": 47,
   "metadata": {},
   "outputs": [
    {
     "name": "stdout",
     "output_type": "stream",
     "text": [
      "Original array: \n",
      " [[ 2  4  6  8]\n",
      " [10 12 14 16]\n",
      " [18 20 22 24]\n",
      " [26 28 30 32]]\n",
      "\n",
      "After swapping second and third column:\n",
      " [[ 2  6  4  8]\n",
      " [10 14 12 16]\n",
      " [18 22 20 24]\n",
      " [26 30 28 32]]\n"
     ]
    }
   ],
   "source": [
    "import numpy as np\n",
    "\n",
    "def swapColumn (arr,start_col,last_col):\n",
    "    arr[:,[start_col, last_col]]= arr[:,[last_col, start_col]]\n",
    "\n",
    "arr = np.arange(2,34,2).reshape(4,4)\n",
    "\n",
    "print(\"Original array: \\n\",arr)\n",
    "\n",
    "swapColumn(arr,1,2)\n",
    "\n",
    "print(\"\\nAfter swapping second and third column:\\n\",arr)"
   ]
  },
  {
   "cell_type": "markdown",
   "metadata": {},
   "source": [
    "### insert new axis on array"
   ]
  }
 ],
 "metadata": {
  "kernelspec": {
   "display_name": ".venv",
   "language": "python",
   "name": "python3"
  },
  "language_info": {
   "codemirror_mode": {
    "name": "ipython",
    "version": 3
   },
   "file_extension": ".py",
   "mimetype": "text/x-python",
   "name": "python",
   "nbconvert_exporter": "python",
   "pygments_lexer": "ipython3",
   "version": "3.12.3"
  }
 },
 "nbformat": 4,
 "nbformat_minor": 2
}

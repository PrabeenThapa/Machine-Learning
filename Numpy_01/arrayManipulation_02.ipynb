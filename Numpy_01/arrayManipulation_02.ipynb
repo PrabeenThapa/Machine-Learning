{
 "cells": [
  {
   "cell_type": "markdown",
   "metadata": {},
   "source": [
    "### comparing two array"
   ]
  },
  {
   "cell_type": "code",
   "execution_count": 24,
   "metadata": {},
   "outputs": [
    {
     "name": "stdout",
     "output_type": "stream",
     "text": [
      "Array 1:\n",
      " [[15 18 19]\n",
      " [15 15 10]\n",
      " [11 17 16]]\n",
      "\n",
      "Array 2:\n",
      " [[13 15 16]\n",
      " [13 15 13]\n",
      " [15 18 18]]\n",
      "\n",
      "comparision between element of arr1 and arr2 is equal:\n",
      " [[False False False]\n",
      " [False  True False]\n",
      " [False False False]]\n",
      "\n",
      " arr1 is greater:\n",
      " [[ True  True  True]\n",
      " [ True False False]\n",
      " [False False False]]\n",
      "\n",
      " arr2 is greater:\n",
      " [[False False False]\n",
      " [False False  True]\n",
      " [ True  True  True]]\n",
      "\n",
      "arr1 is greater than or equal to arr2:\n",
      " [[ True  True  True]\n",
      " [ True  True False]\n",
      " [False False False]]\n"
     ]
    }
   ],
   "source": [
    "import numpy as np\n",
    "\n",
    "np.random.seed(1)\n",
    "\n",
    "arr1 = np.random.randint(10,20, size=(3,3))\n",
    "arr1[1,1]=15\n",
    "print(\"Array 1:\\n\",arr1)\n",
    "\n",
    "arr2 = np.random.randint(11,20,size=(3,3))\n",
    "print(\"\\nArray 2:\\n\",arr2)\n",
    "\n",
    "comp = arr1 ==arr2\n",
    "print(\"\\ncomparision between element of arr1 and arr2 is equal:\\n\",comp)\n",
    "\n",
    "comp1 = arr1 >arr2\n",
    "print(\"\\n arr1 is greater:\\n\",comp1)\n",
    "\n",
    "comp2 = arr1<arr2\n",
    "print(\"\\n arr2 is greater:\\n\", comp2)\n",
    "\n",
    "comp3 = arr1>= arr2\n",
    "print(\"\\narr1 is greater than or equal to arr2:\\n\",comp3)\n"
   ]
  },
  {
   "cell_type": "markdown",
   "metadata": {},
   "source": [
    "### unique rows in array"
   ]
  },
  {
   "cell_type": "code",
   "execution_count": 1,
   "metadata": {},
   "outputs": [
    {
     "name": "stdout",
     "output_type": "stream",
     "text": [
      "Original array:\n",
      " [[  1   2   3   4]\n",
      " [ 33   2   3   4]\n",
      " [121  23  33   2]]\n",
      "\n",
      "Unique array:\n",
      " [  1   2   3   4  23  33 121]\n"
     ]
    }
   ],
   "source": [
    "import numpy as np\n",
    "\n",
    "arr = np.array([[1,2,3,4],\n",
    "                [33,2,3,4],\n",
    "                [121,23,33,2]])\n",
    "\n",
    "print(\"Original array:\\n\",arr)\n",
    "\n",
    "arr1 = np.unique(arr)\n",
    "\n",
    "print(\"\\nUnique array:\\n\",arr1)"
   ]
  },
  {
   "cell_type": "markdown",
   "metadata": {},
   "source": [
    "### unique rows and unique column"
   ]
  },
  {
   "cell_type": "code",
   "execution_count": 8,
   "metadata": {},
   "outputs": [
    {
     "name": "stdout",
     "output_type": "stream",
     "text": [
      "Original array:\n",
      " [[3 2 3 1]\n",
      " [1 2 1 2]\n",
      " [1 2 1 2]]\n",
      "Unique rows:\n",
      " [[1 2 1 2]\n",
      " [3 2 3 1]]\n",
      "Unique column:\n",
      " [[1 2 3]\n",
      " [2 2 1]\n",
      " [2 2 1]]\n"
     ]
    }
   ],
   "source": [
    "import numpy as np\n",
    "\n",
    "np.random.seed(3)\n",
    "\n",
    "arr1 = np.array([[3,2,3,1],\n",
    "                [1,2,1,2],\n",
    "                [1,2,1,2]])\n",
    "\n",
    "print(\"Original array:\\n\", arr1)\n",
    "\n",
    "print(\"Unique rows:\\n\", np.unique(arr1, axis=0) )\n",
    "\n",
    "print(\"Unique column:\\n\",np.unique(arr1, axis=1))\n"
   ]
  },
  {
   "cell_type": "markdown",
   "metadata": {},
   "source": [
    "### index of unique element"
   ]
  },
  {
   "cell_type": "code",
   "execution_count": 10,
   "metadata": {},
   "outputs": [
    {
     "name": "stdout",
     "output_type": "stream",
     "text": [
      "Index of unique element:\n",
      " (array([1, 2, 3]), array([3, 1, 0]))\n"
     ]
    }
   ],
   "source": [
    "import numpy as np\n",
    "\n",
    "np.random.seed(3)\n",
    "\n",
    "arr1 = np.array([[3,2,3,1],\n",
    "                [1,2,1,2],\n",
    "                [1,2,1,2]])\n",
    "\n",
    "print(\"Index of unique element:\\n\", np.unique(arr1, return_index=True))"
   ]
  },
  {
   "cell_type": "markdown",
   "metadata": {},
   "source": []
  }
 ],
 "metadata": {
  "kernelspec": {
   "display_name": ".venv",
   "language": "python",
   "name": "python3"
  },
  "language_info": {
   "codemirror_mode": {
    "name": "ipython",
    "version": 3
   },
   "file_extension": ".py",
   "mimetype": "text/x-python",
   "name": "python",
   "nbconvert_exporter": "python",
   "pygments_lexer": "ipython3",
   "version": "3.12.3"
  }
 },
 "nbformat": 4,
 "nbformat_minor": 2
}

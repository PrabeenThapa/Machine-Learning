{
 "cells": [
  {
   "cell_type": "markdown",
   "metadata": {},
   "source": [
    "### comparing two array"
   ]
  },
  {
   "cell_type": "code",
   "execution_count": 24,
   "metadata": {},
   "outputs": [
    {
     "name": "stdout",
     "output_type": "stream",
     "text": [
      "Array 1:\n",
      " [[15 18 19]\n",
      " [15 15 10]\n",
      " [11 17 16]]\n",
      "\n",
      "Array 2:\n",
      " [[13 15 16]\n",
      " [13 15 13]\n",
      " [15 18 18]]\n",
      "\n",
      "comparision between element of arr1 and arr2 is equal:\n",
      " [[False False False]\n",
      " [False  True False]\n",
      " [False False False]]\n",
      "\n",
      " arr1 is greater:\n",
      " [[ True  True  True]\n",
      " [ True False False]\n",
      " [False False False]]\n",
      "\n",
      " arr2 is greater:\n",
      " [[False False False]\n",
      " [False False  True]\n",
      " [ True  True  True]]\n",
      "\n",
      "arr1 is greater than or equal to arr2:\n",
      " [[ True  True  True]\n",
      " [ True  True False]\n",
      " [False False False]]\n"
     ]
    }
   ],
   "source": [
    "import numpy as np\n",
    "\n",
    "np.random.seed(1)\n",
    "\n",
    "arr1 = np.random.randint(10,20, size=(3,3))\n",
    "arr1[1,1]=15\n",
    "print(\"Array 1:\\n\",arr1)\n",
    "\n",
    "arr2 = np.random.randint(11,20,size=(3,3))\n",
    "print(\"\\nArray 2:\\n\",arr2)\n",
    "\n",
    "comp = arr1 ==arr2\n",
    "print(\"\\ncomparision between element of arr1 and arr2 is equal:\\n\",comp)\n",
    "\n",
    "comp1 = arr1 >arr2\n",
    "print(\"\\n arr1 is greater:\\n\",comp1)\n",
    "\n",
    "comp2 = arr1<arr2\n",
    "print(\"\\n arr2 is greater:\\n\", comp2)\n",
    "\n",
    "comp3 = arr1>= arr2\n",
    "print(\"\\narr1 is greater than or equal to arr2:\\n\",comp3)\n"
   ]
  },
  {
   "cell_type": "markdown",
   "metadata": {},
   "source": [
    "### unique rows in array"
   ]
  },
  {
   "cell_type": "code",
   "execution_count": 1,
   "metadata": {},
   "outputs": [
    {
     "name": "stdout",
     "output_type": "stream",
     "text": [
      "Original array:\n",
      " [[  1   2   3   4]\n",
      " [ 33   2   3   4]\n",
      " [121  23  33   2]]\n",
      "\n",
      "Unique array:\n",
      " [  1   2   3   4  23  33 121]\n"
     ]
    }
   ],
   "source": [
    "import numpy as np\n",
    "\n",
    "arr = np.array([[1,2,3,4],\n",
    "                [33,2,3,4],\n",
    "                [121,23,33,2]])\n",
    "\n",
    "print(\"Original array:\\n\",arr)\n",
    "\n",
    "arr1 = np.unique(arr)\n",
    "\n",
    "print(\"\\nUnique array:\\n\",arr1)"
   ]
  },
  {
   "cell_type": "markdown",
   "metadata": {},
   "source": [
    "### unique rows and unique column"
   ]
  },
  {
   "cell_type": "code",
   "execution_count": 8,
   "metadata": {},
   "outputs": [
    {
     "name": "stdout",
     "output_type": "stream",
     "text": [
      "Original array:\n",
      " [[3 2 3 1]\n",
      " [1 2 1 2]\n",
      " [1 2 1 2]]\n",
      "Unique rows:\n",
      " [[1 2 1 2]\n",
      " [3 2 3 1]]\n",
      "Unique column:\n",
      " [[1 2 3]\n",
      " [2 2 1]\n",
      " [2 2 1]]\n"
     ]
    }
   ],
   "source": [
    "import numpy as np\n",
    "\n",
    "np.random.seed(3)\n",
    "\n",
    "arr1 = np.array([[3,2,3,1],\n",
    "                [1,2,1,2],\n",
    "                [1,2,1,2]])\n",
    "\n",
    "print(\"Original array:\\n\", arr1)\n",
    "\n",
    "print(\"Unique rows:\\n\", np.unique(arr1, axis=0) )\n",
    "\n",
    "print(\"Unique column:\\n\",np.unique(arr1, axis=1))\n"
   ]
  },
  {
   "cell_type": "markdown",
   "metadata": {},
   "source": [
    "### index of unique element"
   ]
  },
  {
   "cell_type": "code",
   "execution_count": 10,
   "metadata": {},
   "outputs": [
    {
     "name": "stdout",
     "output_type": "stream",
     "text": [
      "Index of unique element:\n",
      " (array([1, 2, 3]), array([3, 1, 0]))\n"
     ]
    }
   ],
   "source": [
    "import numpy as np\n",
    "\n",
    "np.random.seed(3)\n",
    "\n",
    "arr1 = np.array([[3,2,3,1],\n",
    "                [1,2,1,2],\n",
    "                [1,2,1,2]])\n",
    "\n",
    "print(\"Index of unique element:\\n\", np.unique(arr1, return_index=True))"
   ]
  },
  {
   "cell_type": "markdown",
   "metadata": {},
   "source": [
    "### np.unique()"
   ]
  },
  {
   "cell_type": "code",
   "execution_count": 11,
   "metadata": {},
   "outputs": [
    {
     "name": "stdout",
     "output_type": "stream",
     "text": [
      "Unique elements:  [1 2 3]\n"
     ]
    }
   ],
   "source": [
    "import numpy as np\n",
    "\n",
    "np.random.seed(3)\n",
    "\n",
    "arr1 = np.array([[3,2,3,1],\n",
    "                [1,2,1,2],\n",
    "                [1,2,1,2]])\n",
    "\n",
    "print(\"Unique elements: \", np.unique(arr1))"
   ]
  },
  {
   "cell_type": "markdown",
   "metadata": {},
   "source": [
    "### np.trim_zeros"
   ]
  },
  {
   "cell_type": "code",
   "execution_count": 12,
   "metadata": {},
   "outputs": [
    {
     "name": "stdout",
     "output_type": "stream",
     "text": [
      "Original array :\n",
      " [[0 2 3 1]\n",
      " [1 2 0 2]\n",
      " [1 2 1 2]]\n"
     ]
    },
    {
     "ename": "ValueError",
     "evalue": "The truth value of an array with more than one element is ambiguous. Use a.any() or a.all()",
     "output_type": "error",
     "traceback": [
      "\u001b[0;31m---------------------------------------------------------------------------\u001b[0m",
      "\u001b[0;31mValueError\u001b[0m                                Traceback (most recent call last)",
      "Cell \u001b[0;32mIn[12], line 10\u001b[0m\n\u001b[1;32m      5\u001b[0m arr1 \u001b[38;5;241m=\u001b[39m np\u001b[38;5;241m.\u001b[39marray([[\u001b[38;5;241m0\u001b[39m,\u001b[38;5;241m2\u001b[39m,\u001b[38;5;241m3\u001b[39m,\u001b[38;5;241m1\u001b[39m],\n\u001b[1;32m      6\u001b[0m                 [\u001b[38;5;241m1\u001b[39m,\u001b[38;5;241m2\u001b[39m,\u001b[38;5;241m0\u001b[39m,\u001b[38;5;241m2\u001b[39m],\n\u001b[1;32m      7\u001b[0m                 [\u001b[38;5;241m1\u001b[39m,\u001b[38;5;241m2\u001b[39m,\u001b[38;5;241m1\u001b[39m,\u001b[38;5;241m2\u001b[39m]])\n\u001b[1;32m      8\u001b[0m \u001b[38;5;28mprint\u001b[39m(\u001b[38;5;124m\"\u001b[39m\u001b[38;5;124mOriginal array :\u001b[39m\u001b[38;5;130;01m\\n\u001b[39;00m\u001b[38;5;124m\"\u001b[39m, arr1)\n\u001b[0;32m---> 10\u001b[0m arr1 \u001b[38;5;241m=\u001b[39m \u001b[43mnp\u001b[49m\u001b[38;5;241;43m.\u001b[39;49m\u001b[43mtrim_zeros\u001b[49m\u001b[43m(\u001b[49m\u001b[43marr1\u001b[49m\u001b[43m)\u001b[49m\n\u001b[1;32m     12\u001b[0m \u001b[38;5;28mprint\u001b[39m(\u001b[38;5;124m\"\u001b[39m\u001b[38;5;130;01m\\n\u001b[39;00m\u001b[38;5;124mAfter trimming zeros:\u001b[39m\u001b[38;5;130;01m\\n\u001b[39;00m\u001b[38;5;124m\"\u001b[39m, arr1)\n",
      "File \u001b[0;32m/media/prabin/B2E41B25E41AEB7D/python/.venv/lib/python3.12/site-packages/numpy/lib/function_base.py:1843\u001b[0m, in \u001b[0;36mtrim_zeros\u001b[0;34m(filt, trim)\u001b[0m\n\u001b[1;32m   1841\u001b[0m \u001b[38;5;28;01mif\u001b[39;00m \u001b[38;5;124m'\u001b[39m\u001b[38;5;124mF\u001b[39m\u001b[38;5;124m'\u001b[39m \u001b[38;5;129;01min\u001b[39;00m trim:\n\u001b[1;32m   1842\u001b[0m     \u001b[38;5;28;01mfor\u001b[39;00m i \u001b[38;5;129;01min\u001b[39;00m filt:\n\u001b[0;32m-> 1843\u001b[0m         \u001b[38;5;28;01mif\u001b[39;00m i \u001b[38;5;241m!=\u001b[39m \u001b[38;5;241m0.\u001b[39m:\n\u001b[1;32m   1844\u001b[0m             \u001b[38;5;28;01mbreak\u001b[39;00m\n\u001b[1;32m   1845\u001b[0m         \u001b[38;5;28;01melse\u001b[39;00m:\n",
      "\u001b[0;31mValueError\u001b[0m: The truth value of an array with more than one element is ambiguous. Use a.any() or a.all()"
     ]
    }
   ],
   "source": [
    "import numpy as np\n",
    "\n",
    "np.random.seed(3)\n",
    "\n",
    "arr1 = np.array([[0, 2, 3, 1],\n",
    "                 [1, 2, 0, 2],\n",
    "                 [1, 2, 1, 2]])\n",
    "print(\"Original array :\\n\", arr1)\n",
    "\n",
    "# Trim zeros row-wise\n",
    "arr1 = arr1[~np.all(arr1 == 0, axis=1)]\n",
    "\n",
    "# Trim zeros column-wise\n",
    "arr1 = arr1[:, ~np.all(arr1 == 0, axis=0)]\n",
    "\n",
    "print(\"\\nAfter trimming zeros:\\n\", arr1)\n"
   ]
  }
 ],
 "metadata": {
  "kernelspec": {
   "display_name": ".venv",
   "language": "python",
   "name": "python3"
  },
  "language_info": {
   "codemirror_mode": {
    "name": "ipython",
    "version": 3
   },
   "file_extension": ".py",
   "mimetype": "text/x-python",
   "name": "python",
   "nbconvert_exporter": "python",
   "pygments_lexer": "ipython3",
   "version": "3.12.3"
  }
 },
 "nbformat": 4,
 "nbformat_minor": 2
}

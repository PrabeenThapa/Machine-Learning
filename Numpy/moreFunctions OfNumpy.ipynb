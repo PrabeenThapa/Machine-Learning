{
 "cells": [
  {
   "cell_type": "markdown",
   "id": "0afd204d",
   "metadata": {},
   "source": [
    "### Some more functions in numpy"
   ]
  },
  {
   "cell_type": "markdown",
   "id": "2e77fbaf",
   "metadata": {},
   "source": [
    "#### In 1D array"
   ]
  },
  {
   "cell_type": "code",
   "execution_count": 14,
   "id": "d3424231",
   "metadata": {},
   "outputs": [
    {
     "data": {
      "text/plain": [
       "10"
      ]
     },
     "execution_count": 14,
     "metadata": {},
     "output_type": "execute_result"
    }
   ],
   "source": [
    "import numpy as np\n",
    "arr = np.array([10,20,30,40,50])\n",
    "np.min(arr)#returns the minimum number"
   ]
  },
  {
   "cell_type": "code",
   "execution_count": 2,
   "id": "c26a03fd",
   "metadata": {},
   "outputs": [
    {
     "data": {
      "text/plain": [
       "50"
      ]
     },
     "execution_count": 2,
     "metadata": {},
     "output_type": "execute_result"
    }
   ],
   "source": [
    "np.max(arr)#returns the max number"
   ]
  },
  {
   "cell_type": "code",
   "execution_count": 3,
   "id": "90230d00",
   "metadata": {},
   "outputs": [
    {
     "data": {
      "text/plain": [
       "0"
      ]
     },
     "execution_count": 3,
     "metadata": {},
     "output_type": "execute_result"
    }
   ],
   "source": [
    "np.argmin(arr)#returns the position of min number"
   ]
  },
  {
   "cell_type": "code",
   "execution_count": 4,
   "id": "f6f53e1d",
   "metadata": {},
   "outputs": [
    {
     "data": {
      "text/plain": [
       "4"
      ]
     },
     "execution_count": 4,
     "metadata": {},
     "output_type": "execute_result"
    }
   ],
   "source": [
    "np.argmax(arr)#returns the position of max number"
   ]
  },
  {
   "cell_type": "code",
   "execution_count": 5,
   "id": "29e55d7b",
   "metadata": {},
   "outputs": [
    {
     "data": {
      "text/plain": [
       "array([3.16227766, 4.47213595, 5.47722558, 6.32455532, 7.07106781])"
      ]
     },
     "execution_count": 5,
     "metadata": {},
     "output_type": "execute_result"
    }
   ],
   "source": [
    "np.sqrt(arr)#returns a array which consists sq. root of every number"
   ]
  },
  {
   "cell_type": "code",
   "execution_count": 6,
   "id": "16e896fb",
   "metadata": {},
   "outputs": [
    {
     "data": {
      "text/plain": [
       "array([-0.54402111,  0.91294525, -0.98803162,  0.74511316, -0.26237485])"
      ]
     },
     "execution_count": 6,
     "metadata": {},
     "output_type": "execute_result"
    }
   ],
   "source": [
    "np.sin(arr)#sin value of every number"
   ]
  },
  {
   "cell_type": "code",
   "execution_count": 7,
   "id": "dcf7429d",
   "metadata": {},
   "outputs": [
    {
     "data": {
      "text/plain": [
       "array([-0.83907153,  0.40808206,  0.15425145, -0.66693806,  0.96496603])"
      ]
     },
     "execution_count": 7,
     "metadata": {},
     "output_type": "execute_result"
    }
   ],
   "source": [
    "np.cos(arr)#cos value of every number"
   ]
  },
  {
   "cell_type": "code",
   "execution_count": 10,
   "id": "0e6c68a3",
   "metadata": {},
   "outputs": [
    {
     "data": {
      "text/plain": [
       "array([1.  , 1.25, 1.5 , 1.75, 2.  ])"
      ]
     },
     "execution_count": 10,
     "metadata": {},
     "output_type": "execute_result"
    }
   ],
   "source": [
    "np.linspace(1,2,5)#returns the number with linespace"
   ]
  },
  {
   "cell_type": "code",
   "execution_count": 12,
   "id": "27a55e0f",
   "metadata": {},
   "outputs": [
    {
     "data": {
      "text/plain": [
       "150"
      ]
     },
     "execution_count": 12,
     "metadata": {},
     "output_type": "execute_result"
    }
   ],
   "source": [
    "np.sum(arr)#returns the sum of every individual"
   ]
  },
  {
   "cell_type": "code",
   "execution_count": 13,
   "id": "77715b80",
   "metadata": {},
   "outputs": [
    {
     "data": {
      "text/plain": [
       "150"
      ]
     },
     "execution_count": 13,
     "metadata": {},
     "output_type": "execute_result"
    }
   ],
   "source": [
    "arr.sum()#also returns the sum of every individual"
   ]
  },
  {
   "cell_type": "markdown",
   "id": "332e606a",
   "metadata": {},
   "source": [
    "#### In 2D array"
   ]
  },
  {
   "cell_type": "code",
   "execution_count": 18,
   "id": "e2c1a701",
   "metadata": {},
   "outputs": [
    {
     "data": {
      "text/plain": [
       "array([[12, 28,  7],\n",
       "       [18,  3,  4],\n",
       "       [ 4, 13, 17]])"
      ]
     },
     "execution_count": 18,
     "metadata": {},
     "output_type": "execute_result"
    }
   ],
   "source": [
    "np.random.seed(12)\n",
    "mat = np.random.randint(1,30,9).reshape(3,3)\n",
    "mat"
   ]
  },
  {
   "cell_type": "code",
   "execution_count": 19,
   "id": "f5993c53",
   "metadata": {},
   "outputs": [
    {
     "data": {
      "text/plain": [
       "106"
      ]
     },
     "execution_count": 19,
     "metadata": {},
     "output_type": "execute_result"
    }
   ],
   "source": [
    "mat.sum()"
   ]
  },
  {
   "cell_type": "code",
   "execution_count": 20,
   "id": "7de686be",
   "metadata": {},
   "outputs": [
    {
     "data": {
      "text/plain": [
       "28"
      ]
     },
     "execution_count": 20,
     "metadata": {},
     "output_type": "execute_result"
    }
   ],
   "source": [
    "np.max(mat)"
   ]
  },
  {
   "cell_type": "code",
   "execution_count": 21,
   "id": "c4212bec",
   "metadata": {},
   "outputs": [
    {
     "data": {
      "text/plain": [
       "3"
      ]
     },
     "execution_count": 21,
     "metadata": {},
     "output_type": "execute_result"
    }
   ],
   "source": [
    "np.min(mat)"
   ]
  },
  {
   "cell_type": "code",
   "execution_count": null,
   "id": "d5e0af3d",
   "metadata": {},
   "outputs": [],
   "source": []
  }
 ],
 "metadata": {
  "kernelspec": {
   "display_name": "Python 3 (ipykernel)",
   "language": "python",
   "name": "python3"
  },
  "language_info": {
   "codemirror_mode": {
    "name": "ipython",
    "version": 3
   },
   "file_extension": ".py",
   "mimetype": "text/x-python",
   "name": "python",
   "nbconvert_exporter": "python",
   "pygments_lexer": "ipython3",
   "version": "3.11.5"
  }
 },
 "nbformat": 4,
 "nbformat_minor": 5
}

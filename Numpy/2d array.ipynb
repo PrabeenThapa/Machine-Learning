{
 "cells": [
  {
   "cell_type": "markdown",
   "id": "d9d40305",
   "metadata": {},
   "source": [
    "### <u>User defined two dimensional array</u>"
   ]
  },
  {
   "cell_type": "code",
   "execution_count": 3,
   "id": "b3558dc7",
   "metadata": {},
   "outputs": [
    {
     "name": "stdout",
     "output_type": "stream",
     "text": [
      "Enter number of rows: 2\n",
      "Enter number of columns: 2\n",
      "Enter number: 1\n",
      "Enter number: 2\n",
      "Enter number: 3\n",
      "Enter number: 4\n",
      "1 2 3 4 "
     ]
    }
   ],
   "source": [
    "#matrix using list\n",
    "matrix=[]\n",
    "row = int(input(\"Enter number of rows: \"))\n",
    "column=int(input(\"Enter number of columns: \"))\n",
    "for i in range(row):\n",
    "    a=[]\n",
    "    for j in range(column):\n",
    "        val = int(input(\"Enter number: \"))\n",
    "        a.append(val)\n",
    "    matrix.append(a)\n",
    "    \n",
    "for i in range(row):\n",
    "    for j in range(column):\n",
    "        print(matrix[i][j], end = \" \")\n",
    "    print()"
   ]
  },
  {
   "cell_type": "code",
   "execution_count": 7,
   "id": "68158d26",
   "metadata": {},
   "outputs": [
    {
     "name": "stdout",
     "output_type": "stream",
     "text": [
      "Enter number of rows: 2\n",
      "Enter number of columns: 3\n",
      "Enter number: 1\n",
      "Enter number: 2\n",
      "Enter number: 3\n",
      "Enter number: 4\n",
      "Enter number: 5\n",
      "Enter number: 6\n",
      "1 2 3 \n",
      "4 5 6 \n",
      "<class 'numpy.ndarray'>\n"
     ]
    }
   ],
   "source": [
    "#2d array\n",
    "import numpy as np\n",
    "matrix = []\n",
    "row = int(input(\"Enter number of rows: \"))\n",
    "column=int(input(\"Enter number of columns: \"))\n",
    "for i in range(row):\n",
    "    a=[]\n",
    "    for j in range(column):\n",
    "        val = int(input(\"Enter number: \"))\n",
    "        a.append(val)\n",
    "    matrix.append(a)\n",
    "arr = np.array(matrix)\n",
    "for i in range(row):\n",
    "    for j in range (column):\n",
    "        print(arr[i][j], end=\" \")\n",
    "    print()\n",
    "print(type(arr))\n",
    "        "
   ]
  },
  {
   "cell_type": "code",
   "execution_count": null,
   "id": "e2117993",
   "metadata": {},
   "outputs": [],
   "source": []
  }
 ],
 "metadata": {
  "kernelspec": {
   "display_name": "Python 3 (ipykernel)",
   "language": "python",
   "name": "python3"
  },
  "language_info": {
   "codemirror_mode": {
    "name": "ipython",
    "version": 3
   },
   "file_extension": ".py",
   "mimetype": "text/x-python",
   "name": "python",
   "nbconvert_exporter": "python",
   "pygments_lexer": "ipython3",
   "version": "3.11.5"
  }
 },
 "nbformat": 4,
 "nbformat_minor": 5
}

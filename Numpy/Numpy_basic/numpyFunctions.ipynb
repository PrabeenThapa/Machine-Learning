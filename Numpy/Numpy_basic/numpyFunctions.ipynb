{
 "cells": [
  {
   "cell_type": "markdown",
   "id": "52563195",
   "metadata": {},
   "source": [
    "### NumPy Functions"
   ]
  },
  {
   "cell_type": "markdown",
   "id": "637d1468",
   "metadata": {},
   "source": [
    "#### <u>zeros</u>  <h5> This function creates an array (either one dimensional or multi dimensional) and fill all the values with zero '0'.<br> For Example: <br> </h5>"
   ]
  },
  {
   "cell_type": "code",
   "execution_count": 1,
   "id": "779bfa8c",
   "metadata": {},
   "outputs": [
    {
     "data": {
      "text/plain": [
       "array([0., 0., 0., 0., 0.])"
      ]
     },
     "execution_count": 1,
     "metadata": {},
     "output_type": "execute_result"
    }
   ],
   "source": [
    "import numpy as np\n",
    "arr = np.zeros(5)\n",
    "arr"
   ]
  },
  {
   "cell_type": "code",
   "execution_count": 6,
   "id": "18a6e8c4",
   "metadata": {},
   "outputs": [
    {
     "data": {
      "text/plain": [
       "array([[0., 0., 0.],\n",
       "       [0., 0., 0.]])"
      ]
     },
     "execution_count": 6,
     "metadata": {},
     "output_type": "execute_result"
    }
   ],
   "source": [
    "import numpy as np\n",
    "arr = np.zeros((2,3))\n",
    "arr"
   ]
  },
  {
   "cell_type": "markdown",
   "id": "c770062d",
   "metadata": {},
   "source": [
    "### <u> Ones </u>"
   ]
  },
  {
   "cell_type": "code",
   "execution_count": 5,
   "id": "215708c4",
   "metadata": {},
   "outputs": [
    {
     "data": {
      "text/plain": [
       "array([[1., 1.],\n",
       "       [1., 1.],\n",
       "       [1., 1.]])"
      ]
     },
     "execution_count": 5,
     "metadata": {},
     "output_type": "execute_result"
    }
   ],
   "source": [
    "import numpy as np\n",
    "arr = np.ones((3,2))\n",
    "arr"
   ]
  },
  {
   "cell_type": "markdown",
   "id": "e870ec65",
   "metadata": {},
   "source": [
    "### <u> eyes </u>"
   ]
  },
  {
   "cell_type": "code",
   "execution_count": 9,
   "id": "5292f69d",
   "metadata": {},
   "outputs": [
    {
     "data": {
      "text/plain": [
       "array([[1., 0., 0.],\n",
       "       [0., 1., 0.],\n",
       "       [0., 0., 1.]])"
      ]
     },
     "execution_count": 9,
     "metadata": {},
     "output_type": "execute_result"
    }
   ],
   "source": [
    "import numpy as np\n",
    "arr = np.eye(3)\n",
    "arr"
   ]
  },
  {
   "cell_type": "code",
   "execution_count": 10,
   "id": "e770b3a9",
   "metadata": {},
   "outputs": [
    {
     "data": {
      "text/plain": [
       "array([[1., 0., 0.],\n",
       "       [0., 1., 0.]])"
      ]
     },
     "execution_count": 10,
     "metadata": {},
     "output_type": "execute_result"
    }
   ],
   "source": [
    "arr = np.eye(2,3)\n",
    "arr"
   ]
  },
  {
   "cell_type": "code",
   "execution_count": 4,
   "id": "b5b42ff1",
   "metadata": {},
   "outputs": [
    {
     "data": {
      "text/plain": [
       "array([[2, 0, 0, 0],\n",
       "       [0, 3, 0, 0],\n",
       "       [0, 0, 4, 0],\n",
       "       [0, 0, 0, 5]])"
      ]
     },
     "execution_count": 4,
     "metadata": {},
     "output_type": "execute_result"
    }
   ],
   "source": [
    "import numpy as np\n",
    "arr=np.diag([2,3,4,5])\n",
    "arr"
   ]
  },
  {
   "cell_type": "code",
   "execution_count": 5,
   "id": "550c6b55",
   "metadata": {},
   "outputs": [
    {
     "data": {
      "text/plain": [
       "array([2, 3, 4, 5, 5])"
      ]
     },
     "execution_count": 5,
     "metadata": {},
     "output_type": "execute_result"
    }
   ],
   "source": [
    "import numpy as np\n",
    "arr = np.diag([2,3,4,5,5])\n",
    "np.diag(arr)"
   ]
  },
  {
   "cell_type": "markdown",
   "id": "fb43b042",
   "metadata": {},
   "source": [
    "## <u> randint </u>"
   ]
  },
  {
   "cell_type": "code",
   "execution_count": 9,
   "id": "26fc53b7",
   "metadata": {},
   "outputs": [
    {
     "data": {
      "text/plain": [
       "array([9, 9, 8])"
      ]
     },
     "execution_count": 9,
     "metadata": {},
     "output_type": "execute_result"
    }
   ],
   "source": [
    "import numpy as np\n",
    "arr = np.random.randint(1,10,3)\n",
    "arr"
   ]
  },
  {
   "cell_type": "markdown",
   "id": "cb80d01a",
   "metadata": {},
   "source": [
    "###  <u> rand </u>"
   ]
  },
  {
   "cell_type": "code",
   "execution_count": 10,
   "id": "f38a6abb",
   "metadata": {},
   "outputs": [
    {
     "data": {
      "text/plain": [
       "array([0.87611542, 0.06304216, 0.01794898, 0.97679074, 0.07467006])"
      ]
     },
     "execution_count": 10,
     "metadata": {},
     "output_type": "execute_result"
    }
   ],
   "source": [
    "import numpy as np\n",
    "arr= np.random.rand(5)\n",
    "arr\n",
    "# rand functions range is automatically set from 0 to 1"
   ]
  },
  {
   "cell_type": "markdown",
   "id": "fdf1df91",
   "metadata": {},
   "source": [
    "## <u> random.rand with range </u>"
   ]
  },
  {
   "cell_type": "code",
   "execution_count": 11,
   "id": "b730bec9",
   "metadata": {},
   "outputs": [
    {
     "data": {
      "text/plain": [
       "array([[0.66126994, 0.70082903, 0.32180144],\n",
       "       [0.65327718, 0.21892927, 0.55232118]])"
      ]
     },
     "execution_count": 11,
     "metadata": {},
     "output_type": "execute_result"
    }
   ],
   "source": [
    "import numpy as np \n",
    "arr = np.random.rand(2,3)\n",
    "#it creates the random array of 2 dimension with members from 0 to 1\n",
    "arr"
   ]
  },
  {
   "cell_type": "markdown",
   "id": "b839488e",
   "metadata": {},
   "source": [
    "## <u> randn </u>"
   ]
  },
  {
   "cell_type": "code",
   "execution_count": 12,
   "id": "ef955402",
   "metadata": {},
   "outputs": [
    {
     "data": {
      "text/plain": [
       "array([ 2.46552362, -0.57312384, -0.51269945, -0.29795568, -0.81168675])"
      ]
     },
     "execution_count": 12,
     "metadata": {},
     "output_type": "execute_result"
    }
   ],
   "source": [
    "import numpy as np\n",
    "arr = np.random.randn(5)\n",
    "#it'll generate a random value close to zero. This may return positive or negative as well.\n",
    "arr"
   ]
  },
  {
   "cell_type": "code",
   "execution_count": null,
   "id": "ac6a34b5",
   "metadata": {},
   "outputs": [],
   "source": []
  }
 ],
 "metadata": {
  "kernelspec": {
   "display_name": "Python 3 (ipykernel)",
   "language": "python",
   "name": "python3"
  },
  "language_info": {
   "codemirror_mode": {
    "name": "ipython",
    "version": 3
   },
   "file_extension": ".py",
   "mimetype": "text/x-python",
   "name": "python",
   "nbconvert_exporter": "python",
   "pygments_lexer": "ipython3",
   "version": "3.11.5"
  }
 },
 "nbformat": 4,
 "nbformat_minor": 5
}

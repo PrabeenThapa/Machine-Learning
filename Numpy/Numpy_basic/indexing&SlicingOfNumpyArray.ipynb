{
 "cells": [
  {
   "cell_type": "markdown",
   "id": "edde4f55",
   "metadata": {},
   "source": [
    "#### <u> indexing in 1 dimensional array </u>"
   ]
  },
  {
   "cell_type": "code",
   "execution_count": 3,
   "id": "b972e210",
   "metadata": {},
   "outputs": [
    {
     "name": "stdout",
     "output_type": "stream",
     "text": [
      "size of array: 4\n",
      "Enter number: 1\n",
      "Enter number: 2\n",
      "Enter number: 3\n",
      "Enter number: 4\n",
      "1\n",
      "2\n",
      "3\n",
      "4\n",
      "sum is 10\n"
     ]
    }
   ],
   "source": [
    "import numpy as np\n",
    "a=[]\n",
    "size = int(input(\"size of array: \"))\n",
    "for i in range(size):\n",
    "    val = int(input(\"Enter number: \"))\n",
    "    a.append(val)\n",
    "arr = np.array(a)\n",
    "for i in range(arr.size):\n",
    "    print(arr[i])\n",
    "sum = 0\n",
    "for i in range(arr.size):\n",
    "    sum = sum +arr[i]\n",
    "print(f\"sum is {sum}\")"
   ]
  },
  {
   "cell_type": "markdown",
   "id": "3fa594b9",
   "metadata": {},
   "source": [
    "### <u> Slicing in one dimensional array </u>"
   ]
  },
  {
   "cell_type": "code",
   "execution_count": 5,
   "id": "3d09c1fb",
   "metadata": {},
   "outputs": [
    {
     "name": "stdout",
     "output_type": "stream",
     "text": [
      "[3 2]\n",
      "[5 2 1]\n"
     ]
    }
   ],
   "source": [
    "import numpy as np\n",
    "a=[4,5,3,2,6,1]\n",
    "arr=np.array(a)\n",
    "arr1 = arr[2:4]\n",
    "print(arr1)\n",
    "arr2= arr[1::2]\n",
    "print(arr2)\n",
    "#slicing in 1 dimensional array is similar to slicing of list\n"
   ]
  }
 ],
 "metadata": {
  "kernelspec": {
   "display_name": "Python 3 (ipykernel)",
   "language": "python",
   "name": "python3"
  },
  "language_info": {
   "codemirror_mode": {
    "name": "ipython",
    "version": 3
   },
   "file_extension": ".py",
   "mimetype": "text/x-python",
   "name": "python",
   "nbconvert_exporter": "python",
   "pygments_lexer": "ipython3",
   "version": "3.11.5"
  }
 },
 "nbformat": 4,
 "nbformat_minor": 5
}

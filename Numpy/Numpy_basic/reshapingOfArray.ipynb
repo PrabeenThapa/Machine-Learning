{
 "cells": [
  {
   "cell_type": "markdown",
   "id": "e0f380b8",
   "metadata": {},
   "source": [
    "### <u> Reshaping Data </u>"
   ]
  },
  {
   "cell_type": "code",
   "execution_count": 16,
   "id": "e61c848b",
   "metadata": {},
   "outputs": [
    {
     "name": "stdout",
     "output_type": "stream",
     "text": [
      "(12,)\n",
      "[[10 36  5 10 32 13]\n",
      " [20 47  5 12 43 17]]\n",
      "After reshaping =  2\n",
      "[[10 36  5]\n",
      " [10 32 13]\n",
      " [20 47  5]\n",
      " [12 43 17]]\n",
      "[10 36  5 10 32 13 20 47  5 12 43 17]\n"
     ]
    }
   ],
   "source": [
    "# one dimension to other dimension\n",
    "import numpy as np\n",
    "arr = np.random.randint(1,50,12)\n",
    "arr\n",
    "#will print 12 random numbers\n",
    "print(arr.shape)\n",
    "#will print(12,)\n",
    "#converting it to two dimensional aray\n",
    "arr = arr.reshape(2,6)\n",
    "print(arr)\n",
    "print(\"After reshaping = \",arr.ndim)\n",
    "print(arr.reshape(4,3))\n",
    "\n",
    "#two dimension to one dimension\n",
    "\n",
    "arr=arr.reshape(12)\n",
    "print(arr)"
   ]
  },
  {
   "cell_type": "code",
   "execution_count": 21,
   "id": "d639ccca",
   "metadata": {},
   "outputs": [
    {
     "name": "stdout",
     "output_type": "stream",
     "text": [
      "[[[45 16 36]\n",
      "  [46 27 69]]\n",
      "\n",
      " [[ 4 43 29]\n",
      "  [63 91 14]]]\n",
      "Number of dimension: 3\n"
     ]
    }
   ],
   "source": [
    "#arr.ndim -> number of dimension\n",
    "#1 dimension to three dimension and vice versa\n",
    "\n",
    "import numpy as np\n",
    "arr=np.random.randint(1,100,12)\n",
    "arr=arr.reshape(2,2,3)\n",
    "print(arr)\n",
    "print(f\"Number of dimension: {arr.ndim}\")"
   ]
  },
  {
   "cell_type": "code",
   "execution_count": 26,
   "id": "be6b50be",
   "metadata": {},
   "outputs": [
    {
     "name": "stdout",
     "output_type": "stream",
     "text": [
      "[[ 1  8 66  4 52 94]\n",
      " [33 36 39 68 45 40]]\n",
      " \n",
      "[[ 1  8]\n",
      " [66  4]\n",
      " [52 94]\n",
      " [33 36]\n",
      " [39 68]\n",
      " [45 40]]\n"
     ]
    }
   ],
   "source": [
    "# if we give number of rows but dont know about number of column then\n",
    "import numpy as np\n",
    "arr = np.random.randint(1,100,12)\n",
    "arr1 = arr.reshape(2,-1)\n",
    "#here -1 is given to calculate number of column by program itself\n",
    "print(arr1)\n",
    "#similarly if we have number of column but don't have number of rows then\n",
    "print(\" \")\n",
    "arr2 = arr.reshape(-1,2)\n",
    "print(arr2)"
   ]
  }
 ],
 "metadata": {
  "kernelspec": {
   "display_name": "Python 3 (ipykernel)",
   "language": "python",
   "name": "python3"
  },
  "language_info": {
   "codemirror_mode": {
    "name": "ipython",
    "version": 3
   },
   "file_extension": ".py",
   "mimetype": "text/x-python",
   "name": "python",
   "nbconvert_exporter": "python",
   "pygments_lexer": "ipython3",
   "version": "3.11.5"
  }
 },
 "nbformat": 4,
 "nbformat_minor": 5
}

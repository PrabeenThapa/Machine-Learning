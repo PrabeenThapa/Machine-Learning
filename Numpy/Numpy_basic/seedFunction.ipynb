{
 "cells": [
  {
   "cell_type": "markdown",
   "id": "fc2b97e7",
   "metadata": {},
   "source": [
    "### <u> seed </u>\n",
    "<h4> We know that randint() function generates random numbers . Everytime we run the program, new set of randomnumber is generated. But what if we want to fix this generation of this random number. In this case we use seed,this generates fix set of random numbers. "
   ]
  },
  {
   "cell_type": "code",
   "execution_count": 245,
   "id": "0c45d1d7",
   "metadata": {},
   "outputs": [
    {
     "name": "stdout",
     "output_type": "stream",
     "text": [
      "13\n",
      "[76 28  7  3  4 68 77 49 23 50 53  6 14]\n"
     ]
    }
   ],
   "source": [
    "import numpy as np\n",
    "arr = np.random.seed(12)\n",
    "arr = np.random.randint(1,100,13)\n",
    "print(arr.size)\n",
    "print(arr)"
   ]
  },
  {
   "cell_type": "code",
   "execution_count": null,
   "id": "c4c214d3",
   "metadata": {},
   "outputs": [],
   "source": []
  }
 ],
 "metadata": {
  "kernelspec": {
   "display_name": "Python 3 (ipykernel)",
   "language": "python",
   "name": "python3"
  },
  "language_info": {
   "codemirror_mode": {
    "name": "ipython",
    "version": 3
   },
   "file_extension": ".py",
   "mimetype": "text/x-python",
   "name": "python",
   "nbconvert_exporter": "python",
   "pygments_lexer": "ipython3",
   "version": "3.11.5"
  }
 },
 "nbformat": 4,
 "nbformat_minor": 5
}

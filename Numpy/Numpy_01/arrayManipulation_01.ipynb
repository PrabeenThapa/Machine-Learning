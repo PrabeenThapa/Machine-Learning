{
 "cells": [
  {
   "cell_type": "markdown",
   "metadata": {},
   "source": [
    "### view() and copy() of an array"
   ]
  },
  {
   "cell_type": "code",
   "execution_count": 2,
   "metadata": {},
   "outputs": [
    {
     "name": "stdout",
     "output_type": "stream",
     "text": [
      "[ 2  4  6  8 10 12 14]\n",
      "\n",
      "ID on view:  139814943726288\n",
      "\n",
      "Original ID:  139814546375472\n",
      "\n",
      "Copied array : [ 2  4  6  8 10 12 14]\n"
     ]
    }
   ],
   "source": [
    "import numpy as np\n",
    "\n",
    "#view\n",
    "\n",
    "arr = np.arange(2,16,2)\n",
    "print(arr)\n",
    "\n",
    "v = arr.view()\n",
    "\n",
    "print(\"\\nID on view: \",id(v))\n",
    "print(\"\\nOriginal ID: \",id(arr))\n",
    "#view is used when we need to perform operations on large arrays without the overhead of copying data.\n",
    "\n",
    "#copy\n",
    "\n",
    "c = arr.copy()\n",
    "print(\"\\nCopied array :\", c)\n",
    "#copy is used when the original data should remain unchanged."
   ]
  },
  {
   "cell_type": "markdown",
   "metadata": {},
   "source": [
    "### different way to copy an array"
   ]
  },
  {
   "cell_type": "code",
   "execution_count": 3,
   "metadata": {},
   "outputs": [
    {
     "name": "stdout",
     "output_type": "stream",
     "text": [
      "Original array: \n",
      " [[1 2]\n",
      " [3 4]]\n",
      "\n",
      "Copied array:\n",
      " [[1 2]\n",
      " [3 4]]\n",
      "\n",
      "Original array: \n",
      " [[33  2]\n",
      " [ 3  4]]\n",
      "\n",
      "Copied array:\n",
      " [[1 2]\n",
      " [3 4]]\n"
     ]
    }
   ],
   "source": [
    "#using .copy()\n",
    "\n",
    "arr1 = np.array([[1,2],[3,4]])\n",
    "\n",
    "arr2 = np.copy(arr1)\n",
    "\n",
    "print(\"Original array: \\n\",arr1)\n",
    "print(\"\\nCopied array:\\n\",arr2)\n",
    "\n",
    "#on applying some modification on original array\n",
    "arr1[0,0]=33\n",
    "\n",
    "print(\"\\nOriginal array: \\n\",arr1)\n",
    "print(\"\\nCopied array:\\n\",arr2)"
   ]
  },
  {
   "cell_type": "code",
   "execution_count": 4,
   "metadata": {},
   "outputs": [
    {
     "name": "stdout",
     "output_type": "stream",
     "text": [
      "Original array: \n",
      " [[1 2]\n",
      " [3 4]]\n",
      "\n",
      "Copied array:\n",
      " [[1 2]\n",
      " [3 4]]\n",
      "\n",
      "Original array: \n",
      " [[33  2]\n",
      " [ 3  4]]\n",
      "\n",
      "Copied array:\n",
      " [[33  2]\n",
      " [ 3  4]]\n"
     ]
    }
   ],
   "source": [
    "#using direct assignment operator\n",
    "arr1 = np.array([[1,2],[3,4]])\n",
    "\n",
    "arr2 = arr1\n",
    "\n",
    "print(\"Original array: \\n\",arr1)\n",
    "print(\"\\nCopied array:\\n\",arr2)\n",
    "\n",
    "#on applying some modification on original array\n",
    "arr1[0,0]=33\n",
    "\n",
    "print(\"\\nOriginal array: \\n\",arr1)\n",
    "print(\"\\nCopied array:\\n\",arr2)"
   ]
  },
  {
   "cell_type": "markdown",
   "metadata": {},
   "source": [
    "### appending values at the end of the array"
   ]
  },
  {
   "cell_type": "markdown",
   "metadata": {},
   "source": [
    "#### using .append()"
   ]
  },
  {
   "cell_type": "code",
   "execution_count": 5,
   "metadata": {},
   "outputs": [
    {
     "name": "stdout",
     "output_type": "stream",
     "text": [
      "Original array:\n",
      " [[33  2]\n",
      " [ 3  4]]\n",
      "After appeding: \n",
      " [33  2  3  4 11 22]\n"
     ]
    }
   ],
   "source": [
    "print(\"Original array:\\n\", arr1)\n",
    "\n",
    "arr2 = np.append(arr1, [11,22])\n",
    "print(\"After appeding: \\n\", arr2)"
   ]
  },
  {
   "cell_type": "markdown",
   "metadata": {},
   "source": [
    "#### using .concatinate"
   ]
  },
  {
   "cell_type": "code",
   "execution_count": 6,
   "metadata": {},
   "outputs": [
    {
     "name": "stdout",
     "output_type": "stream",
     "text": [
      "Array after concatenation: \n",
      " [[22 33]\n",
      " [11 22]\n",
      " [ 2  3]]\n"
     ]
    }
   ],
   "source": [
    "arr1 = np.array([[22,33],[11,22]])\n",
    "\n",
    "arr2 = np.array([[2,3]])\n",
    "\n",
    "arr3 = np.concatenate((arr1, arr2), axis=0)\n",
    "\n",
    "print(\"Array after concatenation: \\n\",arr3)"
   ]
  },
  {
   "cell_type": "code",
   "execution_count": 7,
   "metadata": {},
   "outputs": [
    {
     "name": "stdout",
     "output_type": "stream",
     "text": [
      "[3.  4.  5.  2.2 4.1]\n",
      "<class 'numpy.ndarray'> \n",
      " float64\n"
     ]
    }
   ],
   "source": [
    "#with different data type\n",
    "\n",
    "arr1 = np.array([3,4,5])\n",
    "arr2 = np.array([2.2,4.1])\n",
    "\n",
    "arr3 = np.concatenate((arr1,arr2))\n",
    "print(arr3)\n",
    "print(type(arr3),\"\\n\",arr3.dtype)"
   ]
  },
  {
   "cell_type": "markdown",
   "metadata": {},
   "source": [
    "### swapping column of an array"
   ]
  },
  {
   "cell_type": "code",
   "execution_count": 8,
   "metadata": {},
   "outputs": [
    {
     "name": "stdout",
     "output_type": "stream",
     "text": [
      "Original array:\n",
      " [[0 1 2]\n",
      " [3 4 5]\n",
      " [6 7 8]]\n",
      "After swapping:\n",
      " [[2 1 0]\n",
      " [5 4 3]\n",
      " [8 7 6]]\n"
     ]
    }
   ],
   "source": [
    "import numpy as np\n",
    "\n",
    "arr = np.arange(9).reshape(3,3)\n",
    "print(\"Original array:\\n\",arr)\n",
    "\n",
    "arr[:, [0,2]]= arr[:,[2,0]]\n",
    "#on swapping first column with third column\n",
    "print(\"After swapping:\\n\", arr)"
   ]
  },
  {
   "cell_type": "markdown",
   "metadata": {},
   "source": [
    "#### creating function for swapping of column"
   ]
  },
  {
   "cell_type": "code",
   "execution_count": 9,
   "metadata": {},
   "outputs": [
    {
     "name": "stdout",
     "output_type": "stream",
     "text": [
      "Original array: \n",
      " [[ 2  4  6  8]\n",
      " [10 12 14 16]\n",
      " [18 20 22 24]\n",
      " [26 28 30 32]]\n",
      "\n",
      "After swapping second and third column:\n",
      " [[ 2  6  4  8]\n",
      " [10 14 12 16]\n",
      " [18 22 20 24]\n",
      " [26 30 28 32]]\n"
     ]
    }
   ],
   "source": [
    "import numpy as np\n",
    "\n",
    "def swapColumn (arr,start_col,last_col):\n",
    "    arr[:,[start_col, last_col]]= arr[:,[last_col, start_col]]\n",
    "\n",
    "arr = np.arange(2,34,2).reshape(4,4)\n",
    "\n",
    "print(\"Original array: \\n\",arr)\n",
    "\n",
    "swapColumn(arr,1,2)\n",
    "\n",
    "print(\"\\nAfter swapping second and third column:\\n\",arr)"
   ]
  },
  {
   "cell_type": "markdown",
   "metadata": {},
   "source": [
    "### insert new axis on array"
   ]
  },
  {
   "cell_type": "code",
   "execution_count": 10,
   "metadata": {},
   "outputs": [
    {
     "name": "stdout",
     "output_type": "stream",
     "text": [
      "Initial array:\n",
      " [[ 2  4  6  8]\n",
      " [10 12 14 16]\n",
      " [18 20 22 24]\n",
      " [26 28 30 32]]\n",
      "\n",
      "After increasing axis:\n",
      " [[[ 2  4  6  8]\n",
      "  [10 12 14 16]\n",
      "  [18 20 22 24]\n",
      "  [26 28 30 32]]]\n",
      "\n",
      " (1, 4, 4)\n"
     ]
    }
   ],
   "source": [
    "import numpy as np\n",
    "\n",
    "arr = np.arange(2,34,2).reshape(4,4)\n",
    "\n",
    "print(\"Initial array:\\n\", arr)\n",
    "\n",
    "newArr = arr[np.newaxis]#it just extend the dimension 2D array now becomes the 3D\n",
    "print(\"\\nAfter increasing axis:\\n\",newArr)\n",
    "\n",
    "print(\"\\n\", newArr.shape)"
   ]
  },
  {
   "cell_type": "markdown",
   "metadata": {},
   "source": [
    "### .hstack() & .vstack()"
   ]
  },
  {
   "cell_type": "markdown",
   "metadata": {},
   "source": [
    "#### .hstack()\n",
    "<h6> is used to stack the sequence of input arrays horizontally (i.e. column wise) to make a single array.</h6>"
   ]
  },
  {
   "cell_type": "code",
   "execution_count": 11,
   "metadata": {},
   "outputs": [
    {
     "name": "stdout",
     "output_type": "stream",
     "text": [
      "First array:\n",
      " [[19 14 10]\n",
      " [11 19 10]\n",
      " [11 18 19]]\n",
      "\n",
      "Second array:\n",
      " [[39 49]\n",
      " [47 43]\n",
      " [58 55]]\n",
      "\n",
      "After horizontally stacked:\n",
      " [[19 14 10 39 49]\n",
      " [11 19 10 47 43]\n",
      " [11 18 19 58 55]]\n"
     ]
    }
   ],
   "source": [
    "import numpy as np\n",
    "\n",
    "arr1 = np.random.seed(10)\n",
    "arr1 = np.random.randint(10, 20, size=(3,3))\n",
    "\n",
    "arr2 = np.random.randint(39, 60, size=(3,2))\n",
    "\n",
    "print(\"First array:\\n\",arr1)\n",
    "print(\"\\nSecond array:\\n\", arr2)\n",
    "\n",
    "newArr = np.hstack((arr1, arr2))\n",
    "\n",
    "print(\"\\nAfter horizontally stacked:\\n\", newArr)"
   ]
  },
  {
   "cell_type": "markdown",
   "metadata": {},
   "source": [
    "#### .vstack\n",
    "<h6>is used to stack the sequence of input arrays vertically to make a single array.</h6>"
   ]
  },
  {
   "cell_type": "code",
   "execution_count": 12,
   "metadata": {},
   "outputs": [
    {
     "name": "stdout",
     "output_type": "stream",
     "text": [
      "First array:\n",
      " [[19 14 10]\n",
      " [11 19 10]\n",
      " [11 18 19]]\n",
      "\n",
      "Second array:\n",
      " [[39 49 47]\n",
      " [43 58 55]]\n",
      "\n",
      "After vertically stacked:\n",
      " [[19 14 10]\n",
      " [11 19 10]\n",
      " [11 18 19]\n",
      " [39 49 47]\n",
      " [43 58 55]]\n"
     ]
    }
   ],
   "source": [
    "import numpy as np\n",
    "\n",
    "arr1 = np.random.seed(10)\n",
    "arr1 = np.random.randint(10, 20, size=(3,3))\n",
    "\n",
    "arr2 = np.random.randint(39, 60, size=(2,3))\n",
    "\n",
    "print(\"First array:\\n\",arr1)\n",
    "print(\"\\nSecond array:\\n\", arr2)\n",
    "\n",
    "newArr = np.vstack((arr1, arr2))\n",
    "\n",
    "print(\"\\nAfter vertically stacked:\\n\", newArr)"
   ]
  },
  {
   "cell_type": "markdown",
   "metadata": {},
   "source": [
    "### .block\n",
    "<h6>is used to create nd-arrays from nested blocks of lists.</h6>"
   ]
  },
  {
   "cell_type": "code",
   "execution_count": 13,
   "metadata": {},
   "outputs": [
    {
     "name": "stdout",
     "output_type": "stream",
     "text": [
      "Array 1:\n",
      " [[1 2]\n",
      " [8 2]]\n",
      "\n",
      "Array 2:\n",
      " [[18 13]\n",
      " [19 11]]\n",
      "\n",
      "Array 3:\n",
      " [[39 43]\n",
      " [41 40]]\n",
      "\n",
      " [[ 1  2]\n",
      " [ 8  2]\n",
      " [18 13]\n",
      " [19 11]]\n"
     ]
    }
   ],
   "source": [
    "import numpy as np\n",
    "\n",
    "arr = np.random.seed(11)\n",
    "\n",
    "arr1 = np.random.randint(1,10,size=(2,2))\n",
    "print(\"Array 1:\\n\",arr1)\n",
    "\n",
    "arr2 = np.random.randint(11,20, size=(2,2))\n",
    "print(\"\\nArray 2:\\n\",arr2)\n",
    "\n",
    "arr3 = np.random.randint(39,50,size=(2,2))\n",
    "print(\"\\nArray 3:\\n\",arr3)\n",
    "\n",
    "reArr = np.block([[arr1],[arr2]])\n",
    "\n",
    "print(\"\\n\", reArr)"
   ]
  },
  {
   "cell_type": "markdown",
   "metadata": {},
   "source": [
    "### .dstack\n",
    "<h6>by using np.dstack(), we can get a combined array in stack index by index </h6>"
   ]
  },
  {
   "cell_type": "code",
   "execution_count": 14,
   "metadata": {},
   "outputs": [
    {
     "name": "stdout",
     "output_type": "stream",
     "text": [
      "after stacked:\n",
      " [[[ 2  5 10]\n",
      "  [ 3  7 20]\n",
      "  [ 4 33 30]]]\n"
     ]
    }
   ],
   "source": [
    "import numpy as np\n",
    "\n",
    "arr1 = np.array([2,3,4])\n",
    "arr2 = np.array([10,20,30])\n",
    "arr3 = np.array([5,7,33])\n",
    "\n",
    "newArr = np.dstack((arr1,arr3, arr2))\n",
    "\n",
    "print(\"after stacked:\\n\",newArr)"
   ]
  },
  {
   "cell_type": "markdown",
   "metadata": {},
   "source": [
    "### array splitting"
   ]
  },
  {
   "cell_type": "markdown",
   "metadata": {},
   "source": [
    "#### by np.split()\n",
    "<h6>it devides array with equal interval </h6>"
   ]
  },
  {
   "cell_type": "code",
   "execution_count": 15,
   "metadata": {},
   "outputs": [
    {
     "name": "stdout",
     "output_type": "stream",
     "text": [
      "Before split:  [14 17 18 12 12 19 19 13 16 13]\n",
      "After splitting:  [array([14, 17]), array([18, 12]), array([12, 19]), array([19, 13]), array([16, 13])]\n",
      "[14 17]\n"
     ]
    }
   ],
   "source": [
    "import numpy as np\n",
    "\n",
    "arr = np.random.seed(33)\n",
    "\n",
    "arr1 = np.random.randint(10,20, size=10)\n",
    "print(\"Before split: \", arr1)\n",
    "\n",
    "arr2 = np.split(arr1,5)\n",
    "print(\"After splitting: \",arr2)\n",
    "\n",
    "print(arr2[0])"
   ]
  },
  {
   "cell_type": "markdown",
   "metadata": {},
   "source": [
    "#### by np.array_split\n",
    "<h6>it also can split array with uequal interval</h6>"
   ]
  },
  {
   "cell_type": "code",
   "execution_count": 16,
   "metadata": {},
   "outputs": [
    {
     "name": "stdout",
     "output_type": "stream",
     "text": [
      "Original array:\n",
      " [[1 2 3]\n",
      " [4 5 6]\n",
      " [7 8 9]]\n",
      "\n",
      "After splitting: \n",
      " [array([[1, 2, 3],\n",
      "       [4, 5, 6]]), array([[7, 8, 9]])]\n",
      "\n",
      " [[1 2 3]\n",
      " [4 5 6]]\n"
     ]
    }
   ],
   "source": [
    "import numpy as np\n",
    "\n",
    "arr1 = np.arange(1,10)\n",
    "arr1=arr1.reshape(3,3)\n",
    "print(\"Original array:\\n\",arr1)\n",
    "\n",
    "arr2 = np.array_split(arr1,2)\n",
    "\n",
    "print(\"\\nAfter splitting: \\n\", arr2)\n",
    "\n",
    "print(\"\\n\",arr2[0])"
   ]
  },
  {
   "cell_type": "markdown",
   "metadata": {},
   "source": [
    "### also can split horizotally by .hsplit and vertically by .vsplit "
   ]
  },
  {
   "cell_type": "markdown",
   "metadata": {},
   "source": [
    "### by using np.dsplit()"
   ]
  },
  {
   "cell_type": "code",
   "execution_count": 17,
   "metadata": {},
   "outputs": [
    {
     "name": "stdout",
     "output_type": "stream",
     "text": [
      "Original array:\n",
      " [[[19 14 10 11]\n",
      "  [19 10 11 18]]\n",
      "\n",
      " [[19 10 18 16]\n",
      "  [14 13 10 14]]]\n",
      "\n",
      "After splitting:\n",
      " [array([[[19, 14],\n",
      "        [19, 10]],\n",
      "\n",
      "       [[19, 10],\n",
      "        [14, 13]]]), array([[[10, 11],\n",
      "        [11, 18]],\n",
      "\n",
      "       [[18, 16],\n",
      "        [10, 14]]])]\n",
      "\n",
      "Horizontally split:\n",
      " [array([[[19, 14, 10, 11]],\n",
      "\n",
      "       [[19, 10, 18, 16]]]), array([[[19, 10, 11, 18]],\n",
      "\n",
      "       [[14, 13, 10, 14]]])]\n",
      "\n",
      "Vertically split:\n",
      " [array([[[19, 14, 10, 11],\n",
      "        [19, 10, 11, 18]]]), array([[[19, 10, 18, 16],\n",
      "        [14, 13, 10, 14]]])]\n"
     ]
    }
   ],
   "source": [
    "import numpy as np \n",
    "\n",
    "np.random.seed(10)\n",
    "\n",
    "arr1 = np.random.randint(10,20,size=16)\n",
    "arr1 = arr1.reshape(2,2,4)\n",
    "\n",
    "print(\"Original array:\\n\", arr1)\n",
    "\n",
    "arr2 = np.dsplit(arr1, 2)\n",
    "\n",
    "print(\"\\nAfter splitting:\\n\", arr2)\n",
    "\n",
    "print(\"\\nHorizontally split:\\n\",np.hsplit(arr1, 2))\n",
    "\n",
    "print(\"\\nVertically split:\\n\",np.vsplit(arr1, 2))"
   ]
  }
 ],
 "metadata": {
  "kernelspec": {
   "display_name": ".venv",
   "language": "python",
   "name": "python3"
  },
  "language_info": {
   "codemirror_mode": {
    "name": "ipython",
    "version": 3
   },
   "file_extension": ".py",
   "mimetype": "text/x-python",
   "name": "python",
   "nbconvert_exporter": "python",
   "pygments_lexer": "ipython3",
   "version": "3.11.9"
  }
 },
 "nbformat": 4,
 "nbformat_minor": 2
}

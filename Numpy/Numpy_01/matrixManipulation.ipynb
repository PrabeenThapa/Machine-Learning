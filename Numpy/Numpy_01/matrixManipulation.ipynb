{
 "cells": [
  {
   "cell_type": "markdown",
   "metadata": {},
   "source": [
    "### mathematics operation in matrix"
   ]
  },
  {
   "cell_type": "markdown",
   "metadata": {},
   "source": [
    "#### basic operations"
   ]
  },
  {
   "cell_type": "code",
   "execution_count": 7,
   "metadata": {},
   "outputs": [
    {
     "name": "stdout",
     "output_type": "stream",
     "text": [
      "Element wise addition:\n",
      " [[ 4  6]\n",
      " [ 9 13]]\n",
      "\n",
      "Element wise subtraction\n",
      " [[ 2  2]\n",
      " [-1  1]]\n",
      "\n",
      "Element wise division:\n",
      " [[0.33333333 0.5       ]\n",
      " [1.25       0.85714286]]\n",
      "\n",
      "Element wise multiplication:\n",
      " [[ 3  8]\n",
      " [20 42]]\n",
      "\n",
      "Actual multiplication:\n",
      " [[11 18]\n",
      " [39 62]]\n"
     ]
    }
   ],
   "source": [
    "import numpy as np\n",
    "\n",
    "arr1 = np.array([[1,2],[5,6]])\n",
    "\n",
    "arr2 = np.array([[3,4],[4,7]])\n",
    "\n",
    "print(\"Element wise addition:\\n\", arr1+arr2)\n",
    "\n",
    "print(\"\\nElement wise subtraction\\n\", arr2-arr1)\n",
    "\n",
    "print(\"\\nElement wise division:\\n\", arr1/arr2)\n",
    "\n",
    "print(\"\\nElement wise multiplication:\\n\", arr1*arr2)\n",
    "\n",
    "print(\"\\nActual multiplication:\\n\", arr1.dot(arr2))"
   ]
  },
  {
   "cell_type": "markdown",
   "metadata": {},
   "source": [
    "#### advanced operation"
   ]
  },
  {
   "cell_type": "code",
   "execution_count": 15,
   "metadata": {},
   "outputs": [
    {
     "name": "stdout",
     "output_type": "stream",
     "text": [
      "Sqrt of each element of array:\n",
      " [[1.         1.41421356]\n",
      " [2.23606798 2.44948974]]\n",
      "\n",
      "Total sum of horizontal axis:  [ 3 11]\n",
      "\n",
      "Total sum of vertical axis:  [6 8]\n",
      "\n",
      "Total sum of element: 14\n",
      "\n",
      "Transpose of given array:\n",
      " [[1 5]\n",
      " [2 6]]\n"
     ]
    }
   ],
   "source": [
    "import numpy as np\n",
    "\n",
    "arr1 = np.array([[1,2],[5,6]])\n",
    "\n",
    "\n",
    "print(\"Sqrt of each element of array:\\n\", np.sqrt(arr1))\n",
    "\n",
    "print(\"\\nTotal sum of horizontal axis: \", np.sum(arr1, axis=1))\n",
    "\n",
    "print(\"\\nTotal sum of vertical axis: \", np.sum(arr1, axis=0))\n",
    "\n",
    "print(\"\\nTotal sum of element:\",np.sum(arr1))\n",
    "\n",
    "print(\"\\nTranspose of given array:\\n\",np.transpose(arr1))"
   ]
  }
 ],
 "metadata": {
  "kernelspec": {
   "display_name": ".venv",
   "language": "python",
   "name": "python3"
  },
  "language_info": {
   "codemirror_mode": {
    "name": "ipython",
    "version": 3
   },
   "file_extension": ".py",
   "mimetype": "text/x-python",
   "name": "python",
   "nbconvert_exporter": "python",
   "pygments_lexer": "ipython3",
   "version": "3.11.9"
  }
 },
 "nbformat": 4,
 "nbformat_minor": 2
}

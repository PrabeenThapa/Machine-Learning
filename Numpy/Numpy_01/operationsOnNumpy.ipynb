{
 "cells": [
  {
   "cell_type": "markdown",
   "metadata": {},
   "source": [
    "### Binary operations"
   ]
  },
  {
   "cell_type": "code",
   "execution_count": 3,
   "metadata": {},
   "outputs": [
    {
     "name": "stdout",
     "output_type": "stream",
     "text": [
      "Bitwise and of each element of two array:\n",
      " [0 0 1]\n",
      "Bitwise_or of each element of two array:\n",
      " [3 6 7]\n",
      "Bitwise xor of each element of two array:\n",
      " [3 6 6]\n",
      "Bitwise invert: [-2 -3 -4]\n"
     ]
    }
   ],
   "source": [
    "import numpy as np\n",
    "\n",
    "arr1 = np.array([1,2,3])\n",
    "\n",
    "arr2 = np.array([2,4,5])\n",
    "\n",
    "# np.bitwise_and()\n",
    "print(\"Bitwise and of each element of two array:\\n\", np.bitwise_and(arr1, arr2))\n",
    "\n",
    "#np.bitwise_or()\n",
    "print(\"Bitwise_or of each element of two array:\\n\", np.bitwise_or(arr1, arr2))\n",
    "\n",
    "#np.bitwise_xor()\n",
    "print(\"Bitwise xor of each element of two array:\\n\", np.bitwise_xor(arr1, arr2))\n",
    "\n",
    "print(\"Bitwise invert:\", np.invert(arr1))"
   ]
  },
  {
   "cell_type": "markdown",
   "metadata": {},
   "source": [
    "#### biwise right shift"
   ]
  },
  {
   "cell_type": "code",
   "execution_count": 9,
   "metadata": {},
   "outputs": [
    {
     "name": "stdout",
     "output_type": "stream",
     "text": [
      "Array:  11 Shift:  2\n",
      "After shift:  2\n"
     ]
    }
   ],
   "source": [
    "import numpy as np\n",
    "\n",
    "arr1 = 11\n",
    "shift = 2\n",
    "\n",
    "print(\"Array: \", arr1, \"Shift: \", shift)\n",
    "\n",
    "print(\"After shift: \", np.right_shift(arr1, shift))"
   ]
  },
  {
   "cell_type": "markdown",
   "metadata": {},
   "source": [
    "#### binary represantation"
   ]
  },
  {
   "cell_type": "code",
   "execution_count": 16,
   "metadata": {},
   "outputs": [
    {
     "name": "stdout",
     "output_type": "stream",
     "text": [
      "Binary representation:  10110\n"
     ]
    },
    {
     "data": {
      "text/plain": [
       "'100'"
      ]
     },
     "execution_count": 16,
     "metadata": {},
     "output_type": "execute_result"
    }
   ],
   "source": [
    "import numpy as np\n",
    "\n",
    "num = 22\n",
    "arr1 = np.array([1,2,3,4])\n",
    "\n",
    "print(\"Binary representation: \",np.binary_repr(num, width=None))\n",
    "\n",
    "np.binary_repr(arr1[3])"
   ]
  },
  {
   "cell_type": "markdown",
   "metadata": {},
   "source": [
    "#### packbits"
   ]
  },
  {
   "cell_type": "code",
   "execution_count": 21,
   "metadata": {},
   "outputs": [
    {
     "data": {
      "text/plain": [
       "array([[128],\n",
       "       [224],\n",
       "       [ 32]], dtype=uint8)"
      ]
     },
     "execution_count": 21,
     "metadata": {},
     "output_type": "execute_result"
    }
   ],
   "source": [
    "import numpy as np\n",
    "arr1 = np.array([[1,0,0],\n",
    "                  [1,1,1],\n",
    "                  [0,0,1]])\n",
    "\n",
    "arr2 = np.packbits(arr1,axis= None)\n",
    "arr2"
   ]
  },
  {
   "cell_type": "markdown",
   "metadata": {},
   "source": [
    "#### unpackbits"
   ]
  },
  {
   "cell_type": "code",
   "execution_count": 3,
   "metadata": {},
   "outputs": [
    {
     "data": {
      "text/plain": [
       "array([[1, 0, 0, 0, 0, 0, 0, 0],\n",
       "       [1, 1, 1, 0, 0, 0, 0, 0],\n",
       "       [0, 0, 1, 0, 0, 0, 0, 0]], dtype=uint8)"
      ]
     },
     "execution_count": 3,
     "metadata": {},
     "output_type": "execute_result"
    }
   ],
   "source": [
    "import numpy as np\n",
    "\n",
    "arr1 = np.array([[128],\n",
    "                 [224],\n",
    "                 [32]], dtype=\"uint8\")\n",
    "\n",
    "\n",
    "\n",
    "arr2= np.unpackbits(arr1, axis=1)\n",
    "arr2"
   ]
  }
 ],
 "metadata": {
  "kernelspec": {
   "display_name": ".venv",
   "language": "python",
   "name": "python3"
  },
  "language_info": {
   "codemirror_mode": {
    "name": "ipython",
    "version": 3
   },
   "file_extension": ".py",
   "mimetype": "text/x-python",
   "name": "python",
   "nbconvert_exporter": "python",
   "pygments_lexer": "ipython3",
   "version": "3.12.3"
  }
 },
 "nbformat": 4,
 "nbformat_minor": 2
}

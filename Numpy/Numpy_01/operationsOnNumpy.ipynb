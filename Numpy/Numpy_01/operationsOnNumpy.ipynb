{
 "cells": [
  {
   "cell_type": "markdown",
   "metadata": {},
   "source": [
    "### Binary operations"
   ]
  },
  {
   "cell_type": "code",
   "execution_count": 3,
   "metadata": {},
   "outputs": [
    {
     "name": "stdout",
     "output_type": "stream",
     "text": [
      "Bitwise and of each element of two array:\n",
      " [0 0 1]\n",
      "Bitwise_or of each element of two array:\n",
      " [3 6 7]\n",
      "Bitwise xor of each element of two array:\n",
      " [3 6 6]\n",
      "Bitwise invert: [-2 -3 -4]\n"
     ]
    }
   ],
   "source": [
    "import numpy as np\n",
    "\n",
    "arr1 = np.array([1,2,3])\n",
    "\n",
    "arr2 = np.array([2,4,5])\n",
    "\n",
    "# np.bitwise_and()\n",
    "print(\"Bitwise and of each element of two array:\\n\", np.bitwise_and(arr1, arr2))\n",
    "\n",
    "#np.bitwise_or()\n",
    "print(\"Bitwise_or of each element of two array:\\n\", np.bitwise_or(arr1, arr2))\n",
    "\n",
    "#np.bitwise_xor()\n",
    "print(\"Bitwise xor of each element of two array:\\n\", np.bitwise_xor(arr1, arr2))\n",
    "\n",
    "print(\"Bitwise invert:\", np.invert(arr1))"
   ]
  },
  {
   "cell_type": "markdown",
   "metadata": {},
   "source": [
    "#### biwise right shift"
   ]
  },
  {
   "cell_type": "code",
   "execution_count": 9,
   "metadata": {},
   "outputs": [
    {
     "name": "stdout",
     "output_type": "stream",
     "text": [
      "Array:  11 Shift:  2\n",
      "After shift:  2\n"
     ]
    }
   ],
   "source": [
    "import numpy as np\n",
    "\n",
    "arr1 = 11\n",
    "shift = 2\n",
    "\n",
    "print(\"Array: \", arr1, \"Shift: \", shift)\n",
    "\n",
    "print(\"After shift: \", np.right_shift(arr1, shift))"
   ]
  },
  {
   "cell_type": "markdown",
   "metadata": {},
   "source": [
    "#### binary represantation"
   ]
  },
  {
   "cell_type": "code",
   "execution_count": 16,
   "metadata": {},
   "outputs": [
    {
     "name": "stdout",
     "output_type": "stream",
     "text": [
      "Binary representation:  10110\n"
     ]
    },
    {
     "data": {
      "text/plain": [
       "'100'"
      ]
     },
     "execution_count": 16,
     "metadata": {},
     "output_type": "execute_result"
    }
   ],
   "source": [
    "import numpy as np\n",
    "\n",
    "num = 22\n",
    "arr1 = np.array([1,2,3,4])\n",
    "\n",
    "print(\"Binary representation: \",np.binary_repr(num, width=None))\n",
    "\n",
    "np.binary_repr(arr1[3])"
   ]
  },
  {
   "cell_type": "markdown",
   "metadata": {},
   "source": [
    "#### packbits"
   ]
  },
  {
   "cell_type": "code",
   "execution_count": 21,
   "metadata": {},
   "outputs": [
    {
     "data": {
      "text/plain": [
       "array([[128],\n",
       "       [224],\n",
       "       [ 32]], dtype=uint8)"
      ]
     },
     "execution_count": 21,
     "metadata": {},
     "output_type": "execute_result"
    }
   ],
   "source": [
    "import numpy as np\n",
    "arr1 = np.array([[1,0,0],\n",
    "                  [1,1,1],\n",
    "                  [0,0,1]])\n",
    "\n",
    "arr2 = np.packbits(arr1,axis= None)\n",
    "arr2"
   ]
  },
  {
   "cell_type": "markdown",
   "metadata": {},
   "source": [
    "#### unpackbits"
   ]
  },
  {
   "cell_type": "code",
   "execution_count": 3,
   "metadata": {},
   "outputs": [
    {
     "data": {
      "text/plain": [
       "array([[1, 0, 0, 0, 0, 0, 0, 0],\n",
       "       [1, 1, 1, 0, 0, 0, 0, 0],\n",
       "       [0, 0, 1, 0, 0, 0, 0, 0]], dtype=uint8)"
      ]
     },
     "execution_count": 3,
     "metadata": {},
     "output_type": "execute_result"
    }
   ],
   "source": [
    "import numpy as np\n",
    "\n",
    "arr1 = np.array([[128],\n",
    "                 [224],\n",
    "                 [32]], dtype=\"uint8\")\n",
    "\n",
    "\n",
    "\n",
    "arr2= np.unpackbits(arr1, axis=1)\n",
    "arr2"
   ]
  },
  {
   "cell_type": "markdown",
   "metadata": {},
   "source": [
    "### Mathematical function"
   ]
  },
  {
   "cell_type": "markdown",
   "metadata": {},
   "source": [
    "#### sin/cos/tan function"
   ]
  },
  {
   "cell_type": "code",
   "execution_count": 5,
   "metadata": {},
   "outputs": [
    {
     "name": "stdout",
     "output_type": "stream",
     "text": [
      "Original list:  [0, 1.0471975511965976, 1.5707963267948966, 3.141592653589793]\n",
      "Sine of arr:  [0.00000000e+00 8.66025404e-01 1.00000000e+00 1.22464680e-16]\n"
     ]
    }
   ],
   "source": [
    "import numpy as np\n",
    "import math as m\n",
    "\n",
    "arr = [0, np.pi/3, m.pi/2, m.pi]\n",
    "\n",
    "print(\"Original list: \",arr)\n",
    "\n",
    "sin_values= np.sin(arr)\n",
    "print(\"Sine of arr: \", sin_values)"
   ]
  },
  {
   "cell_type": "markdown",
   "metadata": {},
   "source": [
    "#### hyperbolic function sinh/cosh/tanh"
   ]
  },
  {
   "cell_type": "code",
   "execution_count": 6,
   "metadata": {},
   "outputs": [
    {
     "name": "stdout",
     "output_type": "stream",
     "text": [
      "Original list:  [10, 30, 50]\n",
      "sinh values:  [0.00000000e+00 8.66025404e-01 1.00000000e+00 1.22464680e-16]\n"
     ]
    }
   ],
   "source": [
    "import numpy as np\n",
    "\n",
    "arr = [10,30,50]\n",
    "\n",
    "sinh_value= np.sinh(arr)\n",
    "\n",
    "print(\"Original list: \", arr)\n",
    "\n",
    "print(\"sinh values: \", sin_values)"
   ]
  },
  {
   "cell_type": "markdown",
   "metadata": {},
   "source": [
    "#### functions for rounding numpy.around(), numpy.round(), numpy.rint(), fix\\floor\\ceil\\trunc"
   ]
  },
  {
   "cell_type": "code",
   "execution_count": 10,
   "metadata": {},
   "outputs": [
    {
     "name": "stdout",
     "output_type": "stream",
     "text": [
      "Original list:  [10.54, 30.32, 50.11]\n",
      "Rounded values:  [11. 30. 50.]\n"
     ]
    }
   ],
   "source": [
    "import numpy as np\n",
    "\n",
    "arr = [10.54,30.32,50.11]\n",
    "rounded = np.round(arr)\n",
    "\n",
    "\n",
    "print(\"Original list: \", arr)\n",
    "\n",
    "print(\"Rounded values: \",rounded )\n",
    "\n"
   ]
  },
  {
   "cell_type": "markdown",
   "metadata": {},
   "source": [
    "### string operations"
   ]
  },
  {
   "cell_type": "markdown",
   "metadata": {},
   "source": [
    "#### np.lower(), np.split(), np.join(),....."
   ]
  },
  {
   "cell_type": "code",
   "execution_count": 7,
   "metadata": {},
   "outputs": [
    {
     "ename": "TypeError",
     "evalue": "string operation on non-string array",
     "output_type": "error",
     "traceback": [
      "\u001b[0;31m---------------------------------------------------------------------------\u001b[0m",
      "\u001b[0;31mTypeError\u001b[0m                                 Traceback (most recent call last)",
      "Cell \u001b[0;32mIn[7], line 6\u001b[0m\n\u001b[1;32m      3\u001b[0m str1 \u001b[38;5;241m=\u001b[39m \u001b[38;5;124m\"\u001b[39m\u001b[38;5;124mHello world i am here to help you\u001b[39m\u001b[38;5;124m\"\u001b[39m\n\u001b[1;32m      5\u001b[0m str_split \u001b[38;5;241m=\u001b[39m np\u001b[38;5;241m.\u001b[39mchar\u001b[38;5;241m.\u001b[39msplit(str1, \u001b[38;5;124m\"\u001b[39m\u001b[38;5;124m \u001b[39m\u001b[38;5;124m\"\u001b[39m)\n\u001b[0;32m----> 6\u001b[0m s_upper \u001b[38;5;241m=\u001b[39m \u001b[43mnp\u001b[49m\u001b[38;5;241;43m.\u001b[39;49m\u001b[43mchar\u001b[49m\u001b[38;5;241;43m.\u001b[39;49m\u001b[43mupper\u001b[49m\u001b[43m(\u001b[49m\u001b[43mstr_split\u001b[49m\u001b[43m)\u001b[49m\n\u001b[1;32m      7\u001b[0m s_lower \u001b[38;5;241m=\u001b[39m np\u001b[38;5;241m.\u001b[39mchar\u001b[38;5;241m.\u001b[39mlower(s_upper)\n\u001b[1;32m      8\u001b[0m \u001b[38;5;28mprint\u001b[39m(str_split)\n",
      "File \u001b[0;32m~/Desktop/python/.venv/lib/python3.12/site-packages/numpy/core/defchararray.py:1809\u001b[0m, in \u001b[0;36mupper\u001b[0;34m(a)\u001b[0m\n\u001b[1;32m   1779\u001b[0m \u001b[38;5;250m\u001b[39m\u001b[38;5;124;03m\"\"\"\u001b[39;00m\n\u001b[1;32m   1780\u001b[0m \u001b[38;5;124;03mReturn an array with the elements converted to uppercase.\u001b[39;00m\n\u001b[1;32m   1781\u001b[0m \n\u001b[0;32m   (...)\u001b[0m\n\u001b[1;32m   1806\u001b[0m \n\u001b[1;32m   1807\u001b[0m \u001b[38;5;124;03m\"\"\"\u001b[39;00m\n\u001b[1;32m   1808\u001b[0m a_arr \u001b[38;5;241m=\u001b[39m numpy\u001b[38;5;241m.\u001b[39masarray(a)\n\u001b[0;32m-> 1809\u001b[0m \u001b[38;5;28;01mreturn\u001b[39;00m \u001b[43m_vec_string\u001b[49m\u001b[43m(\u001b[49m\u001b[43ma_arr\u001b[49m\u001b[43m,\u001b[49m\u001b[43m \u001b[49m\u001b[43ma_arr\u001b[49m\u001b[38;5;241;43m.\u001b[39;49m\u001b[43mdtype\u001b[49m\u001b[43m,\u001b[49m\u001b[43m \u001b[49m\u001b[38;5;124;43m'\u001b[39;49m\u001b[38;5;124;43mupper\u001b[39;49m\u001b[38;5;124;43m'\u001b[39;49m\u001b[43m)\u001b[49m\n",
      "\u001b[0;31mTypeError\u001b[0m: string operation on non-string array"
     ]
    }
   ],
   "source": [
    "import numpy as np\n",
    "\n",
    "str1 = \"Hello world i am here to help you\"\n",
    "\n",
    "str_split = np.char.split(str1, \" \")\n",
    "s_upper = np.char.upper(str1)\n",
    "s_lower = np.char.lower(s_upper)\n",
    "print(str_split)\n",
    "print(s_upper)\n",
    "print(s_lower)"
   ]
  }
 ],
 "metadata": {
  "kernelspec": {
   "display_name": ".venv",
   "language": "python",
   "name": "python3"
  },
  "language_info": {
   "codemirror_mode": {
    "name": "ipython",
    "version": 3
   },
   "file_extension": ".py",
   "mimetype": "text/x-python",
   "name": "python",
   "nbconvert_exporter": "python",
   "pygments_lexer": "ipython3",
   "version": "3.12.3"
  }
 },
 "nbformat": 4,
 "nbformat_minor": 2
}

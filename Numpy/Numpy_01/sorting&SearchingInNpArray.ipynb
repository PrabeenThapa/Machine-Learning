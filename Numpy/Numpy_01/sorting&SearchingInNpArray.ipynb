{
 "cells": [
  {
   "cell_type": "markdown",
   "metadata": {},
   "source": [
    "### Searching in numpy array"
   ]
  },
  {
   "cell_type": "markdown",
   "metadata": {},
   "source": [
    "#### <ul><li>numpy.where()</li><li>numpy.searchsorted()</li></ul>"
   ]
  },
  {
   "cell_type": "code",
   "execution_count": 5,
   "metadata": {},
   "outputs": [
    {
     "name": "stdout",
     "output_type": "stream",
     "text": [
      "Index of 33:  (array([1]), array([0]))\n",
      "Index of 33:  (array([2]),)\n"
     ]
    }
   ],
   "source": [
    "import numpy  as np \n",
    "\n",
    "arr1 = np.array([[1,2,3],\n",
    "                 [33,4,5],\n",
    "                 [6,5,4]])\n",
    "\n",
    "arr2 = np.array([1,2,33,4,5,6])\n",
    "\n",
    "print(\"Index of 33: \",np.where(arr1==33))\n",
    "print(\"Index of 33: \",np.where(arr2==33))"
   ]
  },
  {
   "cell_type": "code",
   "execution_count": 11,
   "metadata": {},
   "outputs": [
    {
     "name": "stdout",
     "output_type": "stream",
     "text": [
      "Index of 33:  6\n"
     ]
    }
   ],
   "source": [
    "import numpy  as np \n",
    "\n",
    "\n",
    "arr2 = np.array([1,2,33,4,5,6])\n",
    "\n",
    "print(\"Index of 33: \",np.searchsorted(arr2,33, side=\"left\"))"
   ]
  },
  {
   "cell_type": "markdown",
   "metadata": {},
   "source": [
    "### array sorting"
   ]
  },
  {
   "cell_type": "markdown",
   "metadata": {},
   "source": [
    "#### np.sort()"
   ]
  },
  {
   "cell_type": "code",
   "execution_count": 5,
   "metadata": {},
   "outputs": [
    {
     "name": "stdout",
     "output_type": "stream",
     "text": [
      "Original arry:\n",
      " [[33 22 44]\n",
      " [11 55 66]\n",
      " [33  6  7]]\n",
      "\n",
      "Sorted array:\n",
      " [[11  6  7]\n",
      " [33 22 44]\n",
      " [33 55 66]]\n"
     ]
    }
   ],
   "source": [
    "import numpy as np\n",
    "\n",
    "arr1 = np.array([[33,22,44],\n",
    "                 [11,55,66],\n",
    "                 [33,6,7]])\n",
    "\n",
    "print(\"Original arry:\\n\",arr1)\n",
    "\n",
    "print(\"\\nSorted array:\\n\", np.sort(arr1, axis=0))"
   ]
  },
  {
   "cell_type": "markdown",
   "metadata": {},
   "source": [
    "#### np.argsort()\n",
    "<h6>It returns the indices that would sort an array."
   ]
  },
  {
   "cell_type": "code",
   "execution_count": 1,
   "metadata": {},
   "outputs": [
    {
     "name": "stdout",
     "output_type": "stream",
     "text": [
      "Original array:\n",
      " [[33 22 44]\n",
      " [11 55 66]\n",
      " [33  6  7]]\n",
      "Indices that sort an array:\n",
      " [[1 0 2]\n",
      " [0 1 2]\n",
      " [1 2 0]]\n"
     ]
    }
   ],
   "source": [
    "import numpy as np\n",
    "\n",
    "arr1 = np.array([[33,22,44],\n",
    "                 [11,55,66],\n",
    "                 [33,6,7]])\n",
    "print(\"Original array:\\n\",arr1)\n",
    "\n",
    "print(\"Indices that sort an array:\\n\", np.argsort(arr1))\n",
    "\n",
    "print()"
   ]
  }
 ],
 "metadata": {
  "kernelspec": {
   "display_name": ".venv",
   "language": "python",
   "name": "python3"
  },
  "language_info": {
   "codemirror_mode": {
    "name": "ipython",
    "version": 3
   },
   "file_extension": ".py",
   "mimetype": "text/x-python",
   "name": "python",
   "nbconvert_exporter": "python",
   "pygments_lexer": "ipython3",
   "version": "3.11.9"
  }
 },
 "nbformat": 4,
 "nbformat_minor": 2
}

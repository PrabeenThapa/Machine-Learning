{
 "cells": [
  {
   "cell_type": "markdown",
   "metadata": {},
   "source": [
    "## Linear algebra in Numpy"
   ]
  },
  {
   "cell_type": "markdown",
   "metadata": {},
   "source": [
    "###  rank, trace, determinant, inverse and raised to power"
   ]
  },
  {
   "cell_type": "code",
   "execution_count": 9,
   "metadata": {},
   "outputs": [
    {
     "name": "stdout",
     "output_type": "stream",
     "text": [
      "Rank of arr:  3\n",
      "\n",
      "Trace of matrix: 37\n",
      "\n",
      "Determinant of matrix:  770.0000000000003\n",
      "\n",
      "Inverse of arr:  [[-0.08571429  0.1         0.0012987 ]\n",
      " [-0.25714286 -0.2         0.04935065]\n",
      " [ 0.48571429  0.1        -0.03766234]]\n",
      "\n",
      "Cube of arr: \n",
      " [[ 10777   7703   6509]\n",
      " [ 10472   7521   6260]\n",
      " [102828  74041  62304]]\n"
     ]
    }
   ],
   "source": [
    "import numpy as np\n",
    "\n",
    "arr = np.array([[2,3,4],\n",
    "                [11,2,3],\n",
    "                [55,44,33]])\n",
    "\n",
    "#rank of matrix\n",
    "print(\"Rank of arr: \", np.linalg.matrix_rank(arr))\n",
    "\n",
    "#trace of matrix\n",
    "print(\"\\nTrace of matrix:\", np.trace(arr))#sum of diagonal element\n",
    "\n",
    "#determinant of matrix\n",
    "print(\"\\nDeterminant of matrix: \", np.linalg.det(arr))\n",
    "\n",
    "#inverse of matrix\n",
    "print(\"\\nInverse of arr: \", np.linalg.inv(arr))\n",
    "\n",
    "#raised to power\n",
    "print(\"\\nCube of arr: \\n\",np.linalg.matrix_power(arr,3))"
   ]
  },
  {
   "cell_type": "markdown",
   "metadata": {},
   "source": [
    "#### matrix eigen value"
   ]
  },
  {
   "cell_type": "code",
   "execution_count": 22,
   "metadata": {},
   "outputs": [
    {
     "name": "stdout",
     "output_type": "stream",
     "text": [
      "Original array:\n",
      " [[ 2  3  4]\n",
      " [11  2  3]\n",
      " [55 44 33]]\n",
      "\n",
      "Eigen values of arr: EighResult(eigenvalues=array([-48.37787268,  -8.67199659,  94.04986927]), eigenvectors=array([[ 0.61854062,  0.60467256, -0.50177544],\n",
      "       [ 0.43592085, -0.79537931, -0.42112321],\n",
      "       [-0.65374346,  0.04174744, -0.75556379]]))\n"
     ]
    }
   ],
   "source": [
    "import numpy as np\n",
    "\n",
    "arr = np.array([[2,3,4],\n",
    "                [11,2,3],\n",
    "                [55,44,33]])\n",
    "\n",
    "print(\"Original array:\\n\",arr)\n",
    "\n",
    "a = np.linalg.eigh(arr)\n",
    "\n",
    "print(\"\\nEigen values of arr:\",a)"
   ]
  },
  {
   "cell_type": "markdown",
   "metadata": {},
   "source": [
    "### Matrix and vector product"
   ]
  },
  {
   "cell_type": "code",
   "execution_count": 5,
   "metadata": {},
   "outputs": [
    {
     "name": "stdout",
     "output_type": "stream",
     "text": [
      "Dot product between vector a and vrctor b:  (5+14j)\n",
      "VDot product between vector a and vrctor b:  (11-10j)\n"
     ]
    }
   ],
   "source": [
    "import numpy as np\n",
    "\n",
    "vector_a = 2 + 3j\n",
    "vector_b = 4 + 1j\n",
    "\n",
    "print(\"Dot product between vector a and vrctor b: \", np.dot(vector_a, vector_b))\n",
    "print(\"VDot product between vector a and vrctor b: \", np.vdot(vector_a, vector_b))"
   ]
  },
  {
   "cell_type": "markdown",
   "metadata": {},
   "source": [
    "#### Solving linear equation"
   ]
  },
  {
   "cell_type": "markdown",
   "metadata": {},
   "source": [
    "#### np.lingalg.solve(a,b)\n",
    "<h6> Solve a system of linear scalar equations.Computes the “exact” solution, x, of the well-determined, i.e., full rank, linear matrix equation ax = b."
   ]
  },
  {
   "cell_type": "code",
   "execution_count": 7,
   "metadata": {},
   "outputs": [
    {
     "name": "stdout",
     "output_type": "stream",
     "text": [
      "Solution of linear equations:  [2. 2.]\n"
     ]
    }
   ],
   "source": [
    "import numpy as np\n",
    "\n",
    "a = np.array([[1,1],[1,2]])\n",
    "\n",
    "b = np.array([4,6])\n",
    "#x+y=4\n",
    "#x+2y=6\n",
    "\n",
    "print(\"Solution of linear equations: \", np.linalg.solve(a,b))"
   ]
  },
  {
   "cell_type": "markdown",
   "metadata": {},
   "source": [
    "#### np.lingalg.lstsq(A.T, a)\n",
    "<h6>Return the least-squares solution to a linear matrix equation.Solves the equation a x = b by computing a vector x that minimizes the Euclidean 2-norm || b – a x ||^2. The equation may be under-, well-, or over- determined (i.e., the number of linearly independent rows of a can be less than, equal to, or greater than its number of linearly independent columns). If a is square and of full rank, then x (but for round-off error) is the “exact” solution of the equation."
   ]
  },
  {
   "cell_type": "code",
   "execution_count": 8,
   "metadata": {},
   "outputs": [
    {
     "ename": "ModuleNotFoundError",
     "evalue": "No module named 'matplotlib'",
     "output_type": "error",
     "traceback": [
      "\u001b[0;31m---------------------------------------------------------------------------\u001b[0m",
      "\u001b[0;31mModuleNotFoundError\u001b[0m                       Traceback (most recent call last)",
      "Cell \u001b[0;32mIn[8], line 2\u001b[0m\n\u001b[1;32m      1\u001b[0m \u001b[38;5;28;01mimport\u001b[39;00m \u001b[38;5;21;01mnumpy\u001b[39;00m \u001b[38;5;28;01mas\u001b[39;00m \u001b[38;5;21;01mnp\u001b[39;00m\n\u001b[0;32m----> 2\u001b[0m \u001b[38;5;28;01mimport\u001b[39;00m \u001b[38;5;21;01mmatplotlib\u001b[39;00m\u001b[38;5;21;01m.\u001b[39;00m\u001b[38;5;21;01mpyplot\u001b[39;00m \u001b[38;5;28;01mas\u001b[39;00m \u001b[38;5;21;01mplt\u001b[39;00m\n\u001b[1;32m      4\u001b[0m \u001b[38;5;66;03m# x co-ordinates\u001b[39;00m\n\u001b[1;32m      5\u001b[0m x \u001b[38;5;241m=\u001b[39m np\u001b[38;5;241m.\u001b[39marange(\u001b[38;5;241m0\u001b[39m, \u001b[38;5;241m9\u001b[39m)\n",
      "\u001b[0;31mModuleNotFoundError\u001b[0m: No module named 'matplotlib'"
     ]
    }
   ],
   "source": [
    "\n",
    " import numpy as np\n",
    "import matplotlib.pyplot as plt\n",
    " \n",
    "# x co-ordinates\n",
    "x = np.arange(0, 9)\n",
    "A = np.array([x, np.ones(9)])\n",
    " \n",
    "# linearly generated sequence\n",
    "y = [19, 20, 20.5, 21.5, 22, 23, 23, 25.5, 24]\n",
    "# obtaining the parameters of regression line\n",
    "w = np.linalg.lstsq(A.T, y)[0] \n",
    " \n",
    "# plotting the line\n",
    "line = w[0]*x + w[1] # regression line\n",
    "plt.plot(x, line, 'r-')\n",
    "plt.plot(x, y, 'o')\n",
    "plt.show()"
   ]
  }
 ],
 "metadata": {
  "kernelspec": {
   "display_name": ".venv",
   "language": "python",
   "name": "python3"
  },
  "language_info": {
   "codemirror_mode": {
    "name": "ipython",
    "version": 3
   },
   "file_extension": ".py",
   "mimetype": "text/x-python",
   "name": "python",
   "nbconvert_exporter": "python",
   "pygments_lexer": "ipython3",
   "version": "3.12.3"
  }
 },
 "nbformat": 4,
 "nbformat_minor": 2
}

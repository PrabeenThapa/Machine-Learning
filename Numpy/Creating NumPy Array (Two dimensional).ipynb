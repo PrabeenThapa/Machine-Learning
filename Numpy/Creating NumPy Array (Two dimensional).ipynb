{
 "cells": [
  {
   "cell_type": "markdown",
   "id": "ff4031d2",
   "metadata": {},
   "source": [
    "### Creating NumPy Array (Two dimensional)"
   ]
  },
  {
   "cell_type": "code",
   "execution_count": 1,
   "id": "7c5bafca",
   "metadata": {},
   "outputs": [
    {
     "data": {
      "text/plain": [
       "array([[1, 2, 3],\n",
       "       [4, 5, 6],\n",
       "       [7, 8, 9]])"
      ]
     },
     "execution_count": 1,
     "metadata": {},
     "output_type": "execute_result"
    }
   ],
   "source": [
    "import numpy as np\n",
    "a=[[1,2,3],[4,5,6],[7,8,9]]\n",
    "myarr = np.array(a)\n",
    "myarr"
   ]
  },
  {
   "cell_type": "code",
   "execution_count": 5,
   "id": "089512ba",
   "metadata": {},
   "outputs": [
    {
     "name": "stdout",
     "output_type": "stream",
     "text": [
      "Dimension of array =  2\n"
     ]
    }
   ],
   "source": [
    "print(\"Dimension of array = \", myarr.ndim)"
   ]
  },
  {
   "cell_type": "code",
   "execution_count": 6,
   "id": "86c71f92",
   "metadata": {},
   "outputs": [
    {
     "name": "stdout",
     "output_type": "stream",
     "text": [
      "Shape of array =  (3, 3)\n"
     ]
    }
   ],
   "source": [
    "print(\"Shape of array = \",myarr.shape)"
   ]
  }
 ],
 "metadata": {
  "kernelspec": {
   "display_name": "Python 3 (ipykernel)",
   "language": "python",
   "name": "python3"
  },
  "language_info": {
   "codemirror_mode": {
    "name": "ipython",
    "version": 3
   },
   "file_extension": ".py",
   "mimetype": "text/x-python",
   "name": "python",
   "nbconvert_exporter": "python",
   "pygments_lexer": "ipython3",
   "version": "3.11.5"
  }
 },
 "nbformat": 4,
 "nbformat_minor": 5
}

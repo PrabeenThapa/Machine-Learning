{
 "cells": [
  {
   "cell_type": "markdown",
   "id": "b080f140",
   "metadata": {},
   "source": [
    "### <u>view vs copy in python </u>\n",
    "<br>When we slice a sub array from an array, it maybe always done by two ways: <br> First is by making <b>view</b> and the second is using a <b>copy</b> of it.\n",
    "<p>\n",
    "    But there is some difference between both of them. If you make a <b>view</b> an array, any changes made to the sub array will be replicated to the original array whereas if you make any <b>copy</b>, any changes made of copied sub array will not reflect on the original array.\n",
    "</p>"
   ]
  },
  {
   "cell_type": "code",
   "execution_count": 7,
   "id": "88a29a2f",
   "metadata": {},
   "outputs": [
    {
     "data": {
      "text/plain": [
       "array([10, 20, 30,  0,  0, 60])"
      ]
     },
     "execution_count": 7,
     "metadata": {},
     "output_type": "execute_result"
    }
   ],
   "source": [
    "import numpy as np\n",
    "a= np.array([10,20,30,40,50,60])\n",
    "slicing = a[3:5]\n",
    "slicing[:]=0#it automatically used view technic i.e original array get automatically updated\n",
    "a"
   ]
  },
  {
   "cell_type": "code",
   "execution_count": 12,
   "id": "ecab4616",
   "metadata": {},
   "outputs": [
    {
     "data": {
      "text/plain": [
       "array([1, 2, 3, 4, 5, 6, 7])"
      ]
     },
     "execution_count": 12,
     "metadata": {},
     "output_type": "execute_result"
    }
   ],
   "source": [
    "b=np.array([1,2,3,4,5,6,7])\n",
    "slicing = a[3:5].copy()\n",
    "slicing[:]=0\n",
    "b"
   ]
  }
 ],
 "metadata": {
  "kernelspec": {
   "display_name": "Python 3 (ipykernel)",
   "language": "python",
   "name": "python3"
  },
  "language_info": {
   "codemirror_mode": {
    "name": "ipython",
    "version": 3
   },
   "file_extension": ".py",
   "mimetype": "text/x-python",
   "name": "python",
   "nbconvert_exporter": "python",
   "pygments_lexer": "ipython3",
   "version": "3.11.5"
  }
 },
 "nbformat": 4,
 "nbformat_minor": 5
}

{
 "cells": [
  {
   "cell_type": "markdown",
   "id": "e59a55a8",
   "metadata": {},
   "source": [
    "### Creating NumPy Array (One Dimensional)"
   ]
  },
  {
   "cell_type": "code",
   "execution_count": 4,
   "id": "11829877",
   "metadata": {},
   "outputs": [
    {
     "data": {
      "text/plain": [
       "array([2, 3, 4, 5])"
      ]
     },
     "execution_count": 4,
     "metadata": {},
     "output_type": "execute_result"
    }
   ],
   "source": [
    "import numpy as np\n",
    "a=[2,3,4,5]\n",
    "myArr=np.array(a)\n",
    "myArr"
   ]
  },
  {
   "cell_type": "code",
   "execution_count": 5,
   "id": "664c98c7",
   "metadata": {},
   "outputs": [
    {
     "name": "stdout",
     "output_type": "stream",
     "text": [
      "Enter size of the array: 2\n",
      "Enter number: 0\n",
      "Enter number: 1\n"
     ]
    },
    {
     "data": {
      "text/plain": [
       "array([0, 1])"
      ]
     },
     "execution_count": 5,
     "metadata": {},
     "output_type": "execute_result"
    }
   ],
   "source": [
    "import numpy as np \n",
    "a=[]\n",
    "\n",
    "n=int(input(\"Enter size of the array: \"))\n",
    "for i in range(n):\n",
    "    val = int(input(\"Enter number: \"))\n",
    "    a.append(val)\n",
    "myarray=np.array(a)\n",
    "myarray"
   ]
  }
 ],
 "metadata": {
  "kernelspec": {
   "display_name": "Python 3 (ipykernel)",
   "language": "python",
   "name": "python3"
  },
  "language_info": {
   "codemirror_mode": {
    "name": "ipython",
    "version": 3
   },
   "file_extension": ".py",
   "mimetype": "text/x-python",
   "name": "python",
   "nbconvert_exporter": "python",
   "pygments_lexer": "ipython3",
   "version": "3.11.5"
  }
 },
 "nbformat": 4,
 "nbformat_minor": 5
}

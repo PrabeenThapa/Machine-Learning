{
 "cells": [
  {
   "cell_type": "markdown",
   "id": "28814e3e",
   "metadata": {},
   "source": [
    "#### Different operations on array"
   ]
  },
  {
   "cell_type": "markdown",
   "id": "9a94781b",
   "metadata": {},
   "source": [
    "#### In 1D array"
   ]
  },
  {
   "cell_type": "code",
   "execution_count": 2,
   "id": "ad46da42",
   "metadata": {},
   "outputs": [
    {
     "data": {
      "text/plain": [
       "array([1, 2, 3, 4])"
      ]
     },
     "execution_count": 2,
     "metadata": {},
     "output_type": "execute_result"
    }
   ],
   "source": [
    "import numpy as np\n",
    "arr = np.arange(1,5)\n",
    "arr"
   ]
  },
  {
   "cell_type": "code",
   "execution_count": 6,
   "id": "9314f837",
   "metadata": {},
   "outputs": [],
   "source": [
    "arr=arr*2"
   ]
  },
  {
   "cell_type": "code",
   "execution_count": 7,
   "id": "ed337ce8",
   "metadata": {},
   "outputs": [
    {
     "data": {
      "text/plain": [
       "array([2, 4, 6, 8])"
      ]
     },
     "execution_count": 7,
     "metadata": {},
     "output_type": "execute_result"
    }
   ],
   "source": [
    "arr"
   ]
  },
  {
   "cell_type": "code",
   "execution_count": 9,
   "id": "db073aba",
   "metadata": {},
   "outputs": [
    {
     "data": {
      "text/plain": [
       "array([ 4, 16, 36, 64])"
      ]
     },
     "execution_count": 9,
     "metadata": {},
     "output_type": "execute_result"
    }
   ],
   "source": [
    "arr = arr **2\n",
    "arr"
   ]
  },
  {
   "cell_type": "markdown",
   "id": "70813802",
   "metadata": {},
   "source": [
    "### Note:\n",
    "In numpy array divide by zero gives infinity and not any error\n"
   ]
  },
  {
   "cell_type": "code",
   "execution_count": 10,
   "id": "74a3bed3",
   "metadata": {},
   "outputs": [
    {
     "name": "stderr",
     "output_type": "stream",
     "text": [
      "C:\\Users\\thapa\\AppData\\Local\\Temp\\ipykernel_8692\\2844148512.py:1: RuntimeWarning: divide by zero encountered in divide\n",
      "  arr=arr/0\n"
     ]
    },
    {
     "data": {
      "text/plain": [
       "array([inf, inf, inf, inf])"
      ]
     },
     "execution_count": 10,
     "metadata": {},
     "output_type": "execute_result"
    }
   ],
   "source": [
    "arr=arr/0\n",
    "arr"
   ]
  },
  {
   "cell_type": "code",
   "execution_count": 11,
   "id": "534bec35",
   "metadata": {},
   "outputs": [
    {
     "data": {
      "text/plain": [
       "array([3, 3, 3, 3])"
      ]
     },
     "execution_count": 11,
     "metadata": {},
     "output_type": "execute_result"
    }
   ],
   "source": [
    "arr1 = np.array([1,2,3,4])\n",
    "arr2 = np.array([4,5,6,7])\n",
    "arr2-arr1"
   ]
  },
  {
   "cell_type": "markdown",
   "id": "ca18581f",
   "metadata": {},
   "source": [
    "#### In 2D array"
   ]
  },
  {
   "cell_type": "code",
   "execution_count": 13,
   "id": "f1bc8ea7",
   "metadata": {},
   "outputs": [],
   "source": [
    "arr1 = arr1.reshape(2,2)\n",
    "arr2 = arr2.reshape(2,2)"
   ]
  },
  {
   "cell_type": "code",
   "execution_count": 14,
   "id": "8fab2da7",
   "metadata": {},
   "outputs": [
    {
     "data": {
      "text/plain": [
       "array([[0.25      , 0.4       ],\n",
       "       [0.5       , 0.57142857]])"
      ]
     },
     "execution_count": 14,
     "metadata": {},
     "output_type": "execute_result"
    }
   ],
   "source": [
    "arr1/arr2"
   ]
  },
  {
   "cell_type": "code",
   "execution_count": 15,
   "id": "3ca4a34f",
   "metadata": {},
   "outputs": [
    {
     "data": {
      "text/plain": [
       "array([[ 4, 10],\n",
       "       [18, 28]])"
      ]
     },
     "execution_count": 15,
     "metadata": {},
     "output_type": "execute_result"
    }
   ],
   "source": [
    "arr1*arr2"
   ]
  },
  {
   "cell_type": "markdown",
   "id": "200288a7",
   "metadata": {},
   "source": [
    "###\n",
    "<u><i>But in real array multiplication result will be different since here only element to element multiplication is performed."
   ]
  },
  {
   "cell_type": "code",
   "execution_count": 16,
   "id": "8add9c7e",
   "metadata": {},
   "outputs": [
    {
     "data": {
      "text/plain": [
       "array([[16, 19],\n",
       "       [36, 43]])"
      ]
     },
     "execution_count": 16,
     "metadata": {},
     "output_type": "execute_result"
    }
   ],
   "source": [
    "#To obtain the real multiplication result we do following operation\n",
    "arr1.dot(arr2)"
   ]
  }
 ],
 "metadata": {
  "kernelspec": {
   "display_name": "Python 3 (ipykernel)",
   "language": "python",
   "name": "python3"
  },
  "language_info": {
   "codemirror_mode": {
    "name": "ipython",
    "version": 3
   },
   "file_extension": ".py",
   "mimetype": "text/x-python",
   "name": "python",
   "nbconvert_exporter": "python",
   "pygments_lexer": "ipython3",
   "version": "3.11.5"
  }
 },
 "nbformat": 4,
 "nbformat_minor": 5
}

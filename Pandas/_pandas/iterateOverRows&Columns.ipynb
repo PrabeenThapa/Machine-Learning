{
 "cells": [
  {
   "cell_type": "markdown",
   "metadata": {},
   "source": [
    "### Pandas Iterate Over Rows and Columns\n",
    "\n",
    "To iterate over the rows we've following methods:\n",
    "<ol>\n",
    "<li><b>iterrows()</b>: To iterate over the rows.</li>\n",
    "<li><b>itertuples()</b>: To iterate over the rows.</li>\n",
    "<li><b>items()</b>: To iterate over the columns.</li>\n",
    "</ol>"
   ]
  },
  {
   "cell_type": "markdown",
   "metadata": {},
   "source": [
    "#### 1. iterrows()\n",
    "\n",
    "To iterate over rows,use <b>iterrows()</b> method."
   ]
  },
  {
   "cell_type": "code",
   "execution_count": 2,
   "metadata": {},
   "outputs": [
    {
     "name": "stdout",
     "output_type": "stream",
     "text": [
      "\n",
      "Original DataFrame:\n",
      "    Student  Rank  Marks\n",
      "R0    Amit     1     95\n",
      "R1    John     4     70\n",
      "R2  Jacobi     3     80\n",
      "R3   David     5     60\n",
      "R4   Steve     2     90\n"
     ]
    },
    {
     "data": {
      "text/plain": [
       "<generator object DataFrame.iterrows at 0x7fd5b01e1580>"
      ]
     },
     "execution_count": 2,
     "metadata": {},
     "output_type": "execute_result"
    }
   ],
   "source": [
    "import pandas as pd\n",
    "\n",
    "#dataset\n",
    "data = {\n",
    "    'Student':[\"Amit\", \"John\",\"Jacobi\", \"David\", \"Steve\"],\n",
    "    'Rank': [1,4,3,5,2],\n",
    "    'Marks': [95, 70,80, 60, 90]\n",
    "}\n",
    "\n",
    "#dataframe\n",
    "df = pd.DataFrame(data, index=['R0','R1', 'R2', 'R3', 'R4'])\n",
    "\n",
    "print(\"\\nOriginal DataFrame:\\n\", df)\n",
    "\n",
    "df.iterrows()"
   ]
  },
  {
   "cell_type": "markdown",
   "metadata": {},
   "source": [
    "#### 2. itertuples()\n",
    "\n",
    "To iterate over rows, use <b>itertuples()</b> method. Here, each row is returned as a Python Tuple object."
   ]
  },
  {
   "cell_type": "code",
   "execution_count": 3,
   "metadata": {},
   "outputs": [
    {
     "name": "stdout",
     "output_type": "stream",
     "text": [
      "\n",
      "Displaying dataframe as tuple object:\n",
      "\n",
      "\n",
      "Pandas(Index='R0', Student='Amit', Rank=1, Marks=95)\n",
      "Pandas(Index='R1', Student='John', Rank=4, Marks=70)\n",
      "Pandas(Index='R2', Student='Jacobi', Rank=3, Marks=80)\n",
      "Pandas(Index='R3', Student='David', Rank=5, Marks=60)\n",
      "Pandas(Index='R4', Student='Steve', Rank=2, Marks=90)\n"
     ]
    }
   ],
   "source": [
    "print(\"\\nDisplaying dataframe as tuple object:\\n\\n\")\n",
    "\n",
    "for row in df.itertuples():\n",
    "    print(row)"
   ]
  },
  {
   "cell_type": "markdown",
   "metadata": {},
   "source": [
    "#### 3. items() method to iterate over columns\n",
    "\n",
    "To iterate over columns, use the <b>items</b> method. The result will display a label object that is the name of the column and a column object that is what you have in the column."
   ]
  },
  {
   "cell_type": "code",
   "execution_count": 6,
   "metadata": {},
   "outputs": [
    {
     "name": "stdout",
     "output_type": "stream",
     "text": [
      "\n",
      "Iterate over columns in a DataFrame: \n",
      "\n",
      "Student\n",
      "R0      Amit\n",
      "R1      John\n",
      "R2    Jacobi\n",
      "R3     David\n",
      "R4     Steve\n",
      "Name: Student, dtype: object\n",
      "Rank\n",
      "R0    1\n",
      "R1    4\n",
      "R2    3\n",
      "R3    5\n",
      "R4    2\n",
      "Name: Rank, dtype: int64\n",
      "Marks\n",
      "R0    95\n",
      "R1    70\n",
      "R2    80\n",
      "R3    60\n",
      "R4    90\n",
      "Name: Marks, dtype: int64\n"
     ]
    }
   ],
   "source": [
    "#iterate over columns \n",
    "\n",
    "print(\"\\nIterate over columns in a DataFrame: \\n\")\n",
    "\n",
    "for a,b in df.items():\n",
    "    print(a)\n",
    "    print(b)"
   ]
  }
 ],
 "metadata": {
  "kernelspec": {
   "display_name": ".venv",
   "language": "python",
   "name": "python3"
  },
  "language_info": {
   "codemirror_mode": {
    "name": "ipython",
    "version": 3
   },
   "file_extension": ".py",
   "mimetype": "text/x-python",
   "name": "python",
   "nbconvert_exporter": "python",
   "pygments_lexer": "ipython3",
   "version": "3.11.9"
  }
 },
 "nbformat": 4,
 "nbformat_minor": 2
}

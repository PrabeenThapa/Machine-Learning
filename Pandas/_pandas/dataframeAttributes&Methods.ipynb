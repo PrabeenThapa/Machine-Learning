{
 "cells": [
  {
   "cell_type": "markdown",
   "metadata": {},
   "source": [
    "### DATAFRAME-ATTRIBUTES AND METHODS\n",
    "\n",
    "The Pandas Dataframe is a Two-dimensional, tabular data, that uses the <b>Datframe</b> method to create a Dataframe. It also uses different built-in attributes and methods for basic functionalities.\n",
    "\n",
    "\n",
    "<ol>\n",
    "<li><b>dtypes</b>: Returns the dtypes in the DataFrame</li>\n",
    "<li><b>ndim</b>: Return the number of dimensions of the DataFrame.</li>\n",
    "<li><b>size</b>: Return the number of elements in the DataFrame</li>\n",
    "<li><b>shape</b>: Return the dimensionality of the DataFrame in the form of a tuple.</li>\n",
    "<li><b>T</b>: Transpose the rows and columns</li>\n",
    "<li><b>head()</b>: Return the first n rows.</li>\n",
    "<li><b>tail()</b>: Return the last n rows.</li>\n",
    "<li><b>index</b>: Return the index of dataframe.</li>\n",
    "</ol>"
   ]
  },
  {
   "cell_type": "markdown",
   "metadata": {},
   "source": [
    "#### 1. dtypes"
   ]
  },
  {
   "cell_type": "code",
   "execution_count": 5,
   "metadata": {},
   "outputs": [
    {
     "name": "stdout",
     "output_type": "stream",
     "text": [
      "Original data sets:\n",
      "\n",
      "    Student  Rank  Marks\n",
      "R0    Amit     1     95\n",
      "R1    John     4     70\n",
      "R2  Jacobi     3     80\n",
      "R3   David     5     60\n",
      "R4   Steve     2     90\n",
      "\n",
      "\n",
      "Datatypes:\n",
      " Student    object\n",
      "Rank        int64\n",
      "Marks       int64\n",
      "dtype: object\n"
     ]
    }
   ],
   "source": [
    "import pandas as pd\n",
    "\n",
    "data = {\n",
    "    'Student':[\"Amit\", \"John\",\"Jacobi\", \"David\", \"Steve\"],\n",
    "    'Rank': [1,4,3,5,2],\n",
    "    'Marks': [95, 70,80, 60, 90]\n",
    "}\n",
    "\n",
    "df = pd.DataFrame(data, index=['R0','R1', 'R2', 'R3', 'R4'])\n",
    "\n",
    "print(\"Original data sets:\\n\\n\",df)\n",
    "\n",
    "#datatypes\n",
    "\n",
    "print(\"\\n\\nDatatypes:\\n\", df.dtypes)"
   ]
  },
  {
   "cell_type": "markdown",
   "metadata": {},
   "source": [
    "#### 2. ndim"
   ]
  },
  {
   "cell_type": "code",
   "execution_count": 6,
   "metadata": {},
   "outputs": [
    {
     "name": "stdout",
     "output_type": "stream",
     "text": [
      "Original data sets:\n",
      "\n",
      "    Student  Rank  Marks\n",
      "R0    Amit     1     95\n",
      "R1    John     4     70\n",
      "R2  Jacobi     3     80\n",
      "R3   David     5     60\n",
      "R4   Steve     2     90\n",
      "\n",
      "Number of dmensions:  2\n"
     ]
    }
   ],
   "source": [
    "print(\"Original data sets:\\n\\n\",df)\n",
    "\n",
    "#ndim\n",
    "\n",
    "print(\"\\nNumber of dmensions: \",df.ndim)"
   ]
  },
  {
   "cell_type": "markdown",
   "metadata": {},
   "source": [
    "#### 3. size"
   ]
  },
  {
   "cell_type": "code",
   "execution_count": 8,
   "metadata": {},
   "outputs": [
    {
     "name": "stdout",
     "output_type": "stream",
     "text": [
      "Original data sets:\n",
      "\n",
      "    Student  Rank  Marks\n",
      "R0    Amit     1     95\n",
      "R1    John     4     70\n",
      "R2  Jacobi     3     80\n",
      "R3   David     5     60\n",
      "R4   Steve     2     90\n",
      "\n",
      "Size of DataFrame:  15\n"
     ]
    }
   ],
   "source": [
    "print(\"Original data sets:\\n\\n\",df)\n",
    "\n",
    "#size\n",
    "\n",
    "print(\"\\nSize of DataFrame: \",df.size)"
   ]
  },
  {
   "cell_type": "markdown",
   "metadata": {},
   "source": [
    "#### 4. shape"
   ]
  },
  {
   "cell_type": "code",
   "execution_count": 9,
   "metadata": {},
   "outputs": [
    {
     "name": "stdout",
     "output_type": "stream",
     "text": [
      "Original data sets:\n",
      "\n",
      "    Student  Rank  Marks\n",
      "R0    Amit     1     95\n",
      "R1    John     4     70\n",
      "R2  Jacobi     3     80\n",
      "R3   David     5     60\n",
      "R4   Steve     2     90\n",
      "\n",
      "Shape of DataFrame:  (5, 3)\n"
     ]
    }
   ],
   "source": [
    "print(\"Original data sets:\\n\\n\",df)\n",
    "\n",
    "#shape\n",
    "\n",
    "print(\"\\nShape of DataFrame: \", df.shape)"
   ]
  },
  {
   "cell_type": "markdown",
   "metadata": {},
   "source": [
    "#### 5. T => Transpose"
   ]
  },
  {
   "cell_type": "code",
   "execution_count": 10,
   "metadata": {},
   "outputs": [
    {
     "name": "stdout",
     "output_type": "stream",
     "text": [
      "Original data sets:\n",
      "\n",
      "    Student  Rank  Marks\n",
      "R0    Amit     1     95\n",
      "R1    John     4     70\n",
      "R2  Jacobi     3     80\n",
      "R3   David     5     60\n",
      "R4   Steve     2     90\n",
      "\n",
      "\n",
      "After applying transpose: \n",
      "\n",
      "            R0    R1      R2     R3     R4\n",
      "Student  Amit  John  Jacobi  David  Steve\n",
      "Rank        1     4       3      5      2\n",
      "Marks      95    70      80     60     90\n"
     ]
    }
   ],
   "source": [
    "print(\"Original data sets:\\n\\n\",df)\n",
    "\n",
    "#T\n",
    "\n",
    "print(\"\\n\\nAfter applying transpose: \\n\\n\", df.T)"
   ]
  },
  {
   "cell_type": "markdown",
   "metadata": {},
   "source": [
    "#### 6.head()"
   ]
  },
  {
   "cell_type": "code",
   "execution_count": 11,
   "metadata": {},
   "outputs": [
    {
     "name": "stdout",
     "output_type": "stream",
     "text": [
      "Original data sets:\n",
      "\n",
      "    Student  Rank  Marks\n",
      "R0    Amit     1     95\n",
      "R1    John     4     70\n",
      "R2  Jacobi     3     80\n",
      "R3   David     5     60\n",
      "R4   Steve     2     90\n",
      "\n",
      "First two rows of dataframe:\n",
      "\n",
      "    Student  Rank  Marks\n",
      "R0    Amit     1     95\n",
      "R1    John     4     70\n"
     ]
    }
   ],
   "source": [
    "print(\"Original data sets:\\n\\n\",df)\n",
    "\n",
    "#head\n",
    "\n",
    "print(\"\\nFirst two rows of dataframe:\\n\\n\", df.head(2))"
   ]
  },
  {
   "cell_type": "markdown",
   "metadata": {},
   "source": [
    "#### 7.tail()"
   ]
  },
  {
   "cell_type": "code",
   "execution_count": 12,
   "metadata": {},
   "outputs": [
    {
     "name": "stdout",
     "output_type": "stream",
     "text": [
      "Original data sets:\n",
      "\n",
      "    Student  Rank  Marks\n",
      "R0    Amit     1     95\n",
      "R1    John     4     70\n",
      "R2  Jacobi     3     80\n",
      "R3   David     5     60\n",
      "R4   Steve     2     90\n",
      "\n",
      "Last two rows of dataframe:\n",
      "\n",
      "    Student  Rank  Marks\n",
      "R3   David     5     60\n",
      "R4   Steve     2     90\n"
     ]
    }
   ],
   "source": [
    "print(\"Original data sets:\\n\\n\",df)\n",
    "\n",
    "#tail\n",
    "\n",
    "print(\"\\nLast two rows of dataframe:\\n\\n\", df.tail(2))"
   ]
  },
  {
   "cell_type": "markdown",
   "metadata": {},
   "source": [
    "#### 8.index"
   ]
  },
  {
   "cell_type": "code",
   "execution_count": 14,
   "metadata": {},
   "outputs": [
    {
     "name": "stdout",
     "output_type": "stream",
     "text": [
      "Original data sets:\n",
      "\n",
      "    Student  Rank  Marks\n",
      "R0    Amit     1     95\n",
      "R1    John     4     70\n",
      "R2  Jacobi     3     80\n",
      "R3   David     5     60\n",
      "R4   Steve     2     90\n",
      "\n",
      "Indexes of dataframe:  Index(['R0', 'R1', 'R2', 'R3', 'R4'], dtype='object')\n"
     ]
    }
   ],
   "source": [
    "print(\"Original data sets:\\n\\n\",df)\n",
    "\n",
    "#index \n",
    "\n",
    "print(\"\\nIndexes of dataframe: \", df.index)"
   ]
  }
 ],
 "metadata": {
  "kernelspec": {
   "display_name": ".venv",
   "language": "python",
   "name": "python3"
  },
  "language_info": {
   "codemirror_mode": {
    "name": "ipython",
    "version": 3
   },
   "file_extension": ".py",
   "mimetype": "text/x-python",
   "name": "python",
   "nbconvert_exporter": "python",
   "pygments_lexer": "ipython3",
   "version": "3.11.9"
  }
 },
 "nbformat": 4,
 "nbformat_minor": 2
}

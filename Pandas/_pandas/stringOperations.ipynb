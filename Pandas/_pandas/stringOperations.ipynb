{
 "cells": [
  {
   "cell_type": "markdown",
   "metadata": {},
   "source": [
    "### String OPerations On Text Data\n",
    "\n",
    "We can easily perform operations on strings in Pandas using the string method.\n",
    "\n",
    "Operations:\n",
    "\n",
    "<ol>\n",
    "<li><b>lower()</b>: Perform lowercase on text data.</li>\n",
    "<li><b>upper()</b>: Perform uppercase on text data.</li>\n",
    "<li><b>title()</b>: Convert text data to camel case.</li>\n",
    "<li><b>len()</b>: To get the length of each element in the Series.</li>\n",
    "<li><b>count()</b>: Count the non-empty cells for each column or row.</li>\n",
    "<li><b>contain()</b>: Search for a value in a column.</li>\n",
    "</ol>"
   ]
  },
  {
   "cell_type": "code",
   "execution_count": 28,
   "metadata": {},
   "outputs": [
    {
     "data": {
      "text/plain": [
       "0       Kamal\n",
       "1       Kosal\n",
       "2        HARI\n",
       "3      dhiraj\n",
       "4          21\n",
       "5    robertKr\n",
       "dtype: object"
      ]
     },
     "execution_count": 28,
     "metadata": {},
     "output_type": "execute_result"
    }
   ],
   "source": [
    "import pandas as pd\n",
    "\n",
    "# data \n",
    "\n",
    "data = ['Kamal', 'Kosal', \"HARI\", 'dhiraj',21, 'robertKr']\n",
    "\n",
    "# series \n",
    "\n",
    "sr= pd.Series(data)\n",
    "\n",
    "sr"
   ]
  },
  {
   "cell_type": "code",
   "execution_count": 29,
   "metadata": {},
   "outputs": [
    {
     "data": {
      "text/plain": [
       "0       kamal\n",
       "1       kosal\n",
       "2        hari\n",
       "3      dhiraj\n",
       "4         NaN\n",
       "5    robertkr\n",
       "dtype: object"
      ]
     },
     "execution_count": 29,
     "metadata": {},
     "output_type": "execute_result"
    }
   ],
   "source": [
    "# text data to lower case\n",
    "\n",
    "sr.str.lower()"
   ]
  },
  {
   "cell_type": "code",
   "execution_count": 30,
   "metadata": {},
   "outputs": [
    {
     "data": {
      "text/plain": [
       "0       KAMAL\n",
       "1       KOSAL\n",
       "2        HARI\n",
       "3      DHIRAJ\n",
       "4         NaN\n",
       "5    ROBERTKR\n",
       "dtype: object"
      ]
     },
     "execution_count": 30,
     "metadata": {},
     "output_type": "execute_result"
    }
   ],
   "source": [
    "# text data to upper case\n",
    "\n",
    "sr.str.upper()"
   ]
  },
  {
   "cell_type": "code",
   "execution_count": 31,
   "metadata": {},
   "outputs": [
    {
     "data": {
      "text/plain": [
       "0       Kamal\n",
       "1       Kosal\n",
       "2        Hari\n",
       "3      Dhiraj\n",
       "4         NaN\n",
       "5    Robertkr\n",
       "dtype: object"
      ]
     },
     "execution_count": 31,
     "metadata": {},
     "output_type": "execute_result"
    }
   ],
   "source": [
    "# text data to camel case\n",
    "\n",
    "sr.str.title()"
   ]
  },
  {
   "cell_type": "code",
   "execution_count": 32,
   "metadata": {},
   "outputs": [
    {
     "data": {
      "text/plain": [
       "0    5.0\n",
       "1    5.0\n",
       "2    4.0\n",
       "3    6.0\n",
       "4    NaN\n",
       "5    8.0\n",
       "dtype: float64"
      ]
     },
     "execution_count": 32,
     "metadata": {},
     "output_type": "execute_result"
    }
   ],
   "source": [
    "#length of each element\n",
    "\n",
    "sr.str.len()"
   ]
  },
  {
   "cell_type": "code",
   "execution_count": 33,
   "metadata": {},
   "outputs": [
    {
     "name": "stdout",
     "output_type": "stream",
     "text": [
      "['Kamal', 'Kosal', 'HARI', 'dhiraj', 21, 'robertKr', nan]\n",
      "Original series:\n",
      "\n",
      " 0       Kamal\n",
      "1       Kosal\n",
      "2        HARI\n",
      "3      dhiraj\n",
      "4          21\n",
      "5    robertKr\n",
      "6         NaN\n",
      "dtype: object\n"
     ]
    },
    {
     "data": {
      "text/plain": [
       "6"
      ]
     },
     "execution_count": 33,
     "metadata": {},
     "output_type": "execute_result"
    }
   ],
   "source": [
    "import numpy as np\n",
    "data.append(np.nan)\n",
    "print(data)\n",
    "\n",
    "sr = pd.Series(data)\n",
    "\n",
    "print(\"Original series:\\n\\n\",sr)\n",
    "\n",
    "sr.count()"
   ]
  },
  {
   "cell_type": "code",
   "execution_count": 38,
   "metadata": {},
   "outputs": [
    {
     "data": {
      "text/plain": [
       "0    False\n",
       "1     True\n",
       "2    False\n",
       "3    False\n",
       "4      NaN\n",
       "5    False\n",
       "6      NaN\n",
       "dtype: object"
      ]
     },
     "execution_count": 38,
     "metadata": {},
     "output_type": "execute_result"
    }
   ],
   "source": [
    "# search value in series\n",
    "\n",
    "sr.str.contains(\"Kosal\")"
   ]
  }
 ],
 "metadata": {
  "kernelspec": {
   "display_name": ".venv",
   "language": "python",
   "name": "python3"
  },
  "language_info": {
   "codemirror_mode": {
    "name": "ipython",
    "version": 3
   },
   "file_extension": ".py",
   "mimetype": "text/x-python",
   "name": "python",
   "nbconvert_exporter": "python",
   "pygments_lexer": "ipython3",
   "version": "3.11.9"
  }
 },
 "nbformat": 4,
 "nbformat_minor": 2
}

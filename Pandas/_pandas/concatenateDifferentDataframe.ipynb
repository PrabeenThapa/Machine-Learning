{
 "cells": [
  {
   "cell_type": "markdown",
   "metadata": {},
   "source": [
    "### Concatenate PANDAS DataFrame\n",
    "#### We can easily concatenate Pandas Dataframe using the <b>concat()</b> method"
   ]
  },
  {
   "cell_type": "code",
   "execution_count": 2,
   "metadata": {},
   "outputs": [
    {
     "name": "stdout",
     "output_type": "stream",
     "text": [
      "Student  Rank  Marks\n",
      "   Amit     1     95\n",
      "   John     4     70\n",
      " Jacobi     3     80\n",
      "  David     5     60\n",
      "  Steve     2     90\n",
      "\n",
      "\n",
      "  Id\n",
      "101\n",
      "102\n",
      "103\n",
      "104\n",
      "105\n",
      "\n",
      "\n",
      " Student  Rank  Marks  Id  Id\n",
      "   Amit     1     95 101 101\n",
      "   John     4     70 102 102\n",
      " Jacobi     3     80 103 103\n",
      "  David     5     60 104 104\n",
      "  Steve     2     90 105 105\n"
     ]
    }
   ],
   "source": [
    "import pandas as pd\n",
    "\n",
    "#Dataset\n",
    "data1 = {\n",
    "    'Student':[\"Amit\", \"John\",\"Jacobi\", \"David\", \"Steve\"],\n",
    "    'Rank': [1,4,3,5,2],\n",
    "    'Marks': [95, 70,80, 60, 90]\n",
    "}\n",
    "\n",
    "data2 = {\n",
    "    'Id': ['101','102','103','104','105']\n",
    "}\n",
    "\n",
    "df1 = pd.DataFrame(data1)\n",
    "df2 = pd.DataFrame(data2)\n",
    "\n",
    "print(df1.to_string(index=False))\n",
    "print(\"\\n\\n\",df2.to_string(index=False))\n",
    "\n",
    "#concat()\n",
    "\n",
    "concatenatedDf = pd.concat([df1, df2, df2], axis=1)\n",
    "print(\"\\n\\n\",concatenatedDf.to_string(index=False))"
   ]
  }
 ],
 "metadata": {
  "kernelspec": {
   "display_name": ".venv",
   "language": "python",
   "name": "python3"
  },
  "language_info": {
   "codemirror_mode": {
    "name": "ipython",
    "version": 3
   },
   "file_extension": ".py",
   "mimetype": "text/x-python",
   "name": "python",
   "nbconvert_exporter": "python",
   "pygments_lexer": "ipython3",
   "version": "3.11.9"
  }
 },
 "nbformat": 4,
 "nbformat_minor": 2
}

{
 "cells": [
  {
   "cell_type": "markdown",
   "metadata": {},
   "source": [
    "### SERIES-ATTRIBUTES AND METHODS\n",
    "\n",
    "The Series in Pandas is a one-dimensional array that uses the <b>Series()</b> method t create a Series. It also uses different built-in attributes and methods for basic functionalities.\n",
    "\n",
    "\n",
    "<ol>\n",
    "<li><b>dtype</b>: Returns the dtype.</li>\n",
    "<li><b>ndim</b>: Return the number of dimensions.</li>\n",
    "<li><b>size</b>: Return the number of elements.</li>\n",
    "<li><b>name</b>: Return the name of the Series.</li>\n",
    "<li><b>hasnans</b>: Returns True if NaNs are in the series.</li>\n",
    "<li><b>index</b>: Return the index of dataframe.</li>\n",
    "<li><b>head()</b>: Return the first n rows.</li>\n",
    "<li><b>tail()</b>: Return the last n rows.</li>\n",
    "<li><b>info</b>: DIsplay the Summary of the series.</li>\n",
    "</ol>"
   ]
  },
  {
   "cell_type": "markdown",
   "metadata": {},
   "source": [
    "#### 1. dtype"
   ]
  },
  {
   "cell_type": "code",
   "execution_count": 13,
   "metadata": {},
   "outputs": [
    {
     "name": "stdout",
     "output_type": "stream",
     "text": [
      "Series: \n",
      " 0    10\n",
      "1    20\n",
      "2    30\n",
      "3    40\n",
      "4    50\n",
      "dtype: int64\n",
      "\n",
      "Datatype of series:  int64\n"
     ]
    }
   ],
   "source": [
    "import pandas as pd\n",
    "\n",
    "#creating series\n",
    "data = [10, 20, 30, 40, 50]\n",
    "\n",
    "s= pd.Series(data)\n",
    "\n",
    "print(\"Series: \\n\",s)\n",
    "\n",
    "#datatype\n",
    "print(\"\\nDatatype of series: \", s.dtype)"
   ]
  },
  {
   "cell_type": "markdown",
   "metadata": {},
   "source": [
    "#### 2. ndim"
   ]
  },
  {
   "cell_type": "code",
   "execution_count": 14,
   "metadata": {},
   "outputs": [
    {
     "name": "stdout",
     "output_type": "stream",
     "text": [
      "Dimension of the series s:  1\n"
     ]
    }
   ],
   "source": [
    "print(\"Dimension of the series s: \", s.ndim)"
   ]
  },
  {
   "cell_type": "markdown",
   "metadata": {},
   "source": [
    "#### 3. size"
   ]
  },
  {
   "cell_type": "code",
   "execution_count": 15,
   "metadata": {},
   "outputs": [
    {
     "name": "stdout",
     "output_type": "stream",
     "text": [
      "The size of the series:  5\n"
     ]
    }
   ],
   "source": [
    "print(\"The size of the series: \", s.size)"
   ]
  },
  {
   "cell_type": "markdown",
   "metadata": {},
   "source": [
    "#### 4. name attribute"
   ]
  },
  {
   "cell_type": "code",
   "execution_count": 16,
   "metadata": {},
   "outputs": [
    {
     "name": "stdout",
     "output_type": "stream",
     "text": [
      "Name of the series:  Number Series\n"
     ]
    }
   ],
   "source": [
    "s = pd.Series(data, name=\"Number Series\")\n",
    "\n",
    "print(\"Name of the series: \", s.name)"
   ]
  },
  {
   "cell_type": "markdown",
   "metadata": {},
   "source": [
    "#### 5. hasanans attribute"
   ]
  },
  {
   "cell_type": "code",
   "execution_count": 17,
   "metadata": {},
   "outputs": [
    {
     "name": "stdout",
     "output_type": "stream",
     "text": [
      "Original series: \n",
      " 0    10.0\n",
      "1    20.0\n",
      "2    30.0\n",
      "3    40.0\n",
      "4    50.0\n",
      "5     NaN\n",
      "dtype: float64\n",
      "\n",
      "\n",
      "Does series s has hasnan:  True\n"
     ]
    }
   ],
   "source": [
    "import numpy as np\n",
    "data.append(np.nan)\n",
    "\n",
    "s= pd.Series(data)\n",
    "\n",
    "print(\"Original series: \\n\", s)\n",
    "\n",
    "print(\"\\n\\nDoes series s has hasnan: \", s.hasnans)"
   ]
  },
  {
   "cell_type": "markdown",
   "metadata": {},
   "source": [
    "#### 6. index attribute"
   ]
  },
  {
   "cell_type": "code",
   "execution_count": 20,
   "metadata": {},
   "outputs": [
    {
     "name": "stdout",
     "output_type": "stream",
     "text": [
      "R1    10.0\n",
      "R2    20.0\n",
      "R3    30.0\n",
      "R4    40.0\n",
      "R5    50.0\n",
      "R6     NaN\n",
      "Name: My number series, dtype: float64\n",
      "\n",
      "Index:  Index(['R1', 'R2', 'R3', 'R4', 'R5', 'R6'], dtype='object')\n"
     ]
    }
   ],
   "source": [
    "s= pd.Series(data, index=['R1', 'R2', 'R3', 'R4', 'R5', 'R6'], name=\"My number series\")\n",
    "\n",
    "print(s)\n",
    "\n",
    "print(\"\\nIndex: \", s.index)"
   ]
  },
  {
   "cell_type": "markdown",
   "metadata": {},
   "source": [
    "#### 7. head()"
   ]
  },
  {
   "cell_type": "code",
   "execution_count": 22,
   "metadata": {},
   "outputs": [
    {
     "name": "stdout",
     "output_type": "stream",
     "text": [
      "Top two rows:\n",
      "  R1    10.0\n",
      "R2    20.0\n",
      "Name: My number series, dtype: float64\n"
     ]
    }
   ],
   "source": [
    "print(\"Top two rows:\\n \", s.head(2))"
   ]
  },
  {
   "cell_type": "markdown",
   "metadata": {},
   "source": [
    "#### 8. tail()"
   ]
  },
  {
   "cell_type": "code",
   "execution_count": 23,
   "metadata": {},
   "outputs": [
    {
     "name": "stdout",
     "output_type": "stream",
     "text": [
      "Last two rows:\n",
      "  R5    50.0\n",
      "R6     NaN\n",
      "Name: My number series, dtype: float64\n"
     ]
    }
   ],
   "source": [
    "print(\"Last two rows:\\n \", s.tail(2))"
   ]
  },
  {
   "cell_type": "markdown",
   "metadata": {},
   "source": [
    "#### 9. info"
   ]
  },
  {
   "cell_type": "code",
   "execution_count": 24,
   "metadata": {},
   "outputs": [
    {
     "name": "stdout",
     "output_type": "stream",
     "text": [
      "<class 'pandas.core.series.Series'>\n",
      "Index: 6 entries, R1 to R6\n",
      "Series name: My number series\n",
      "Non-Null Count  Dtype  \n",
      "--------------  -----  \n",
      "5 non-null      float64\n",
      "dtypes: float64(1)\n",
      "memory usage: 96.0+ bytes\n",
      "Series summary: \n",
      " None\n"
     ]
    }
   ],
   "source": [
    "print(\"Series summary: \\n\", s.info())"
   ]
  }
 ],
 "metadata": {
  "kernelspec": {
   "display_name": ".venv",
   "language": "python",
   "name": "python3"
  },
  "language_info": {
   "codemirror_mode": {
    "name": "ipython",
    "version": 3
   },
   "file_extension": ".py",
   "mimetype": "text/x-python",
   "name": "python",
   "nbconvert_exporter": "python",
   "pygments_lexer": "ipython3",
   "version": "3.11.9"
  }
 },
 "nbformat": 4,
 "nbformat_minor": 2
}

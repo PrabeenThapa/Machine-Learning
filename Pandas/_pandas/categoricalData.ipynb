{
 "cells": [
  {
   "cell_type": "markdown",
   "metadata": {},
   "source": [
    "### Pandas Categorical Data\n",
    "<p>\n",
    "    It is a Pandas datatype corresponding to categorical variables in statistics. A categorical variable takes on a limited number of posiible values. Examples are gender, blood type, country affiliation, rating etc.\n",
    "</p>"
   ]
  },
  {
   "cell_type": "markdown",
   "metadata": {},
   "source": [
    "#### Creating Categorical Series\n",
    "\n",
    "We use <b>dtype=\"category\"</b> while creating series to create a Categorical Series."
   ]
  },
  {
   "cell_type": "code",
   "execution_count": 2,
   "metadata": {},
   "outputs": [
    {
     "data": {
      "text/plain": [
       "0    2\n",
       "1    3\n",
       "2    4\n",
       "3    5\n",
       "dtype: category\n",
       "Categories (4, int64): [2, 3, 4, 5]"
      ]
     },
     "execution_count": 2,
     "metadata": {},
     "output_type": "execute_result"
    }
   ],
   "source": [
    "import pandas as pd\n",
    "\n",
    "data1 = [2,3,4,5]\n",
    "data2 = [10,1,6,3]\n",
    "\n",
    "pd.Series(data1, dtype= \"category\")"
   ]
  },
  {
   "cell_type": "markdown",
   "metadata": {},
   "source": [
    "#### Creating Categorical Dataframe\n",
    "\n",
    "We use <b>dtype=\"category\"</b> while creating Dataframe to create a Categorical Dataframe."
   ]
  },
  {
   "cell_type": "code",
   "execution_count": 8,
   "metadata": {},
   "outputs": [
    {
     "name": "stdout",
     "output_type": "stream",
     "text": [
      "\n",
      "Categoral: \n",
      "   Student Rank\n",
      "0     Ram    2\n",
      "1    hari    1\n",
      "2   Kosal    3\n",
      "\n",
      "Datatype :  Student    category\n",
      "Rank       category\n",
      "dtype: object\n"
     ]
    }
   ],
   "source": [
    "data = {\n",
    "    'Student':[\"Ram\", \"hari\", \"Kosal\"],\n",
    "    'Rank':[2,1,3]\n",
    "}\n",
    "\n",
    "df = pd.DataFrame(data, dtype='category')\n",
    "print(\"\\nCategoral: \\n\",df)\n",
    "\n",
    "print(\"\\nDatatype : \", df.dtypes)\n"
   ]
  }
 ],
 "metadata": {
  "kernelspec": {
   "display_name": ".venv",
   "language": "python",
   "name": "python3"
  },
  "language_info": {
   "codemirror_mode": {
    "name": "ipython",
    "version": 3
   },
   "file_extension": ".py",
   "mimetype": "text/x-python",
   "name": "python",
   "nbconvert_exporter": "python",
   "pygments_lexer": "ipython3",
   "version": "3.11.9"
  }
 },
 "nbformat": 4,
 "nbformat_minor": 2
}

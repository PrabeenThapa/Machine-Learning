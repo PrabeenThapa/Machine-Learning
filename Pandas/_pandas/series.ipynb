{
 "cells": [
  {
   "cell_type": "markdown",
   "metadata": {},
   "source": [
    "### PANDAS SERIES\n",
    "\n",
    "Series in Pandas is a one-dimensional array, like a column in table. It is a labeled  array that can hold data of any types.\n",
    "The <b>series()</b> method is used for this and has following parameters: \n",
    "\n",
    "<ul>\n",
    "<li><b>data</b>: The data to be stored in the Pandas Series. </li>\n",
    "<li><b>index</b>: The index values should have the same length as the data.</li>\n",
    "<li><b>name</b>: Set the series name with the name parameter. </li>\n",
    "<li><b>dtype</b>: It is the datatype for the output Series.</li>\n",
    "<li><b>copy</b>: To copy the input data</li>\n",
    "</ul>"
   ]
  },
  {
   "cell_type": "markdown",
   "metadata": {},
   "source": [
    "#### Creating a series, accessing a value, naming own index and accessing a value from Panda Series with label "
   ]
  },
  {
   "cell_type": "code",
   "execution_count": 6,
   "metadata": {},
   "outputs": [
    {
     "name": "stdout",
     "output_type": "stream",
     "text": [
      "Series: \n",
      " 0     10\n",
      "1     20\n",
      "2     40\n",
      "3     30\n",
      "4    100\n",
      "dtype: int64\n",
      "3rd value from series:  40\n",
      "\n",
      "\n",
      "Using custom index: \n",
      " R1     10\n",
      "R2     20\n",
      "R3     40\n",
      "R4     30\n",
      "R5    100\n",
      "dtype: int64\n",
      "\n",
      "\n",
      " Acessing element using custom label let R3:  40\n"
     ]
    }
   ],
   "source": [
    "import pandas as pd\n",
    "\n",
    "# Data\n",
    "data = [10, 20, 40, 30,100]\n",
    "\n",
    "#creating pandas series\n",
    "\n",
    "s = pd.Series(data)\n",
    "\n",
    "print(\"Series: \\n\", s)\n",
    "\n",
    "#accessing the data\n",
    "\n",
    "print(\"3rd value from series: \", s[2])\n",
    "\n",
    "# Own index values i.e. custom labels\n",
    "\n",
    "\n",
    "s = pd.Series(data, index=['R1', 'R2', 'R3', 'R4', 'R5'])\n",
    "\n",
    "print(\"\\n\\nUsing custom index: \\n\",s)\n",
    "\n",
    "#Accessing value from series with label\n",
    "\n",
    "print(\"\\n\\n Acessing element using custom label let R3: \", s['R3'])"
   ]
  }
 ],
 "metadata": {
  "kernelspec": {
   "display_name": ".venv",
   "language": "python",
   "name": "python3"
  },
  "language_info": {
   "codemirror_mode": {
    "name": "ipython",
    "version": 3
   },
   "file_extension": ".py",
   "mimetype": "text/x-python",
   "name": "python",
   "nbconvert_exporter": "python",
   "pygments_lexer": "ipython3",
   "version": "3.11.9"
  }
 },
 "nbformat": 4,
 "nbformat_minor": 2
}

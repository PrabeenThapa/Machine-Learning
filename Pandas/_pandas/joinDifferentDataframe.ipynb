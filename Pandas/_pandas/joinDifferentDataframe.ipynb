{
 "cells": [
  {
   "cell_type": "markdown",
   "metadata": {},
   "source": [
    "### Join PANDAS DataFrame\n",
    "#### We can easily join Pandas Dataframe using the <b>join()</b> method"
   ]
  },
  {
   "cell_type": "code",
   "execution_count": null,
   "metadata": {
    "vscode": {
     "languageId": "plaintext"
    }
   },
   "outputs": [],
   "source": [
    "import pandas as pd\n",
    "\n",
    "#Dataset\n",
    "data = {\n",
    "    'Student':[\"Amit\", \"John\",\"Jacobi\", \"David\", \"Steve\"],\n",
    "    'Rank': [1,4,3,5,2],\n",
    "    'Marks': [95, 70,80, 60, 90]\n",
    "}\n",
    "\n",
    "df = pd.DataFrame(data, index=['R0','R1', 'R2', 'R3', 'R4'])\n",
    "\n",
    "print(df)"
   ]
  }
 ],
 "metadata": {
  "language_info": {
   "name": "python"
  }
 },
 "nbformat": 4,
 "nbformat_minor": 2
}

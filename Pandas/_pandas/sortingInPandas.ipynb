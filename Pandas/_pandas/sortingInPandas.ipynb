{
 "cells": [
  {
   "cell_type": "markdown",
   "metadata": {},
   "source": [
    "### Pandas-Sorting\n",
    "\n",
    "To sort the data in Pandas dataframe we can use <b>sort_values()</b> method."
   ]
  },
  {
   "cell_type": "markdown",
   "metadata": {},
   "source": [
    "#### 1. Sort The DataFrame (Default Ascending Order)\n",
    "\n",
    "To sort the DataFrame, use the <b>sort_values()</b> method. The default is acsending, Therefore we don't need to mention any value in the parameter for ascending sort.\n",
    "\n",
    "We can sort by value i.e the <b>by</b> parameter wil be set to the column name by which we need to sort the Dataframe in ascending order."
   ]
  },
  {
   "cell_type": "code",
   "execution_count": 4,
   "metadata": {},
   "outputs": [
    {
     "name": "stdout",
     "output_type": "stream",
     "text": [
      "\n",
      "Original dataframe: \n",
      "\n",
      "     name residency     phone\n",
      "0    Ram     Palpa  98100000\n",
      "1  Shyam       KTM   9900000\n",
      "2   Hari       Btl   9811111\n",
      "3  Kosal       Bhw   9833333\n"
     ]
    },
    {
     "data": {
      "text/html": [
       "<div>\n",
       "<style scoped>\n",
       "    .dataframe tbody tr th:only-of-type {\n",
       "        vertical-align: middle;\n",
       "    }\n",
       "\n",
       "    .dataframe tbody tr th {\n",
       "        vertical-align: top;\n",
       "    }\n",
       "\n",
       "    .dataframe thead th {\n",
       "        text-align: right;\n",
       "    }\n",
       "</style>\n",
       "<table border=\"1\" class=\"dataframe\">\n",
       "  <thead>\n",
       "    <tr style=\"text-align: right;\">\n",
       "      <th></th>\n",
       "      <th>name</th>\n",
       "      <th>residency</th>\n",
       "      <th>phone</th>\n",
       "    </tr>\n",
       "  </thead>\n",
       "  <tbody>\n",
       "    <tr>\n",
       "      <th>2</th>\n",
       "      <td>Hari</td>\n",
       "      <td>Btl</td>\n",
       "      <td>9811111</td>\n",
       "    </tr>\n",
       "    <tr>\n",
       "      <th>3</th>\n",
       "      <td>Kosal</td>\n",
       "      <td>Bhw</td>\n",
       "      <td>9833333</td>\n",
       "    </tr>\n",
       "    <tr>\n",
       "      <th>0</th>\n",
       "      <td>Ram</td>\n",
       "      <td>Palpa</td>\n",
       "      <td>98100000</td>\n",
       "    </tr>\n",
       "    <tr>\n",
       "      <th>1</th>\n",
       "      <td>Shyam</td>\n",
       "      <td>KTM</td>\n",
       "      <td>9900000</td>\n",
       "    </tr>\n",
       "  </tbody>\n",
       "</table>\n",
       "</div>"
      ],
      "text/plain": [
       "    name residency     phone\n",
       "2   Hari       Btl   9811111\n",
       "3  Kosal       Bhw   9833333\n",
       "0    Ram     Palpa  98100000\n",
       "1  Shyam       KTM   9900000"
      ]
     },
     "execution_count": 4,
     "metadata": {},
     "output_type": "execute_result"
    }
   ],
   "source": [
    "import pandas as pd\n",
    "\n",
    "#dataset \n",
    "\n",
    "data = {\n",
    "    'name': [\"Ram\", \"Shyam\", \"Hari\", \"Kosal\"],\n",
    "    'residency': ['Palpa','KTM','Btl','Bhw'],\n",
    "    'phone':[98100000, 9900000,9811111, 9833333]\n",
    "}\n",
    "\n",
    "#dataframe\n",
    "\n",
    "df = pd.DataFrame(data)\n",
    "\n",
    "print(\"\\nOriginal dataframe: \\n\\n\", df)\n",
    "\n",
    "df.sort_values(by='name',ascending=True )#ascending parameter is optional here\n",
    "\n"
   ]
  },
  {
   "cell_type": "markdown",
   "metadata": {},
   "source": [
    "#### 2. Sort The DataFrame in Descending Order\n",
    "\n",
    "To sort the DataFramein Descending order we use the <b>sort_values()</b> method. Set the <b>ascending</b> parameter of the method to <b>False</b>\n",
    "\n",
    "We can sort by value i.e the <b>by</b> parameter wil be set to the column name by which we need to sort the Dataframe in descending order."
   ]
  },
  {
   "cell_type": "code",
   "execution_count": 14,
   "metadata": {},
   "outputs": [
    {
     "data": {
      "text/html": [
       "<div>\n",
       "<style scoped>\n",
       "    .dataframe tbody tr th:only-of-type {\n",
       "        vertical-align: middle;\n",
       "    }\n",
       "\n",
       "    .dataframe tbody tr th {\n",
       "        vertical-align: top;\n",
       "    }\n",
       "\n",
       "    .dataframe thead th {\n",
       "        text-align: right;\n",
       "    }\n",
       "</style>\n",
       "<table border=\"1\" class=\"dataframe\">\n",
       "  <thead>\n",
       "    <tr style=\"text-align: right;\">\n",
       "      <th></th>\n",
       "      <th>name</th>\n",
       "      <th>residency</th>\n",
       "      <th>phone</th>\n",
       "    </tr>\n",
       "  </thead>\n",
       "  <tbody>\n",
       "    <tr>\n",
       "      <th>1</th>\n",
       "      <td>Shyam</td>\n",
       "      <td>KTM</td>\n",
       "      <td>9900000</td>\n",
       "    </tr>\n",
       "    <tr>\n",
       "      <th>0</th>\n",
       "      <td>Ram</td>\n",
       "      <td>Palpa</td>\n",
       "      <td>98100000</td>\n",
       "    </tr>\n",
       "    <tr>\n",
       "      <th>3</th>\n",
       "      <td>Kosal</td>\n",
       "      <td>Bhw</td>\n",
       "      <td>9833333</td>\n",
       "    </tr>\n",
       "    <tr>\n",
       "      <th>2</th>\n",
       "      <td>Hari</td>\n",
       "      <td>Btl</td>\n",
       "      <td>9811111</td>\n",
       "    </tr>\n",
       "  </tbody>\n",
       "</table>\n",
       "</div>"
      ],
      "text/plain": [
       "    name residency     phone\n",
       "1  Shyam       KTM   9900000\n",
       "0    Ram     Palpa  98100000\n",
       "3  Kosal       Bhw   9833333\n",
       "2   Hari       Btl   9811111"
      ]
     },
     "execution_count": 14,
     "metadata": {},
     "output_type": "execute_result"
    }
   ],
   "source": [
    "#sorting in descending order\n",
    "\n",
    "df.sort_values(by=['name'], ascending=False)"
   ]
  }
 ],
 "metadata": {
  "kernelspec": {
   "display_name": ".venv",
   "language": "python",
   "name": "python3"
  },
  "language_info": {
   "codemirror_mode": {
    "name": "ipython",
    "version": 3
   },
   "file_extension": ".py",
   "mimetype": "text/x-python",
   "name": "python",
   "nbconvert_exporter": "python",
   "pygments_lexer": "ipython3",
   "version": "3.11.9"
  }
 },
 "nbformat": 4,
 "nbformat_minor": 2
}

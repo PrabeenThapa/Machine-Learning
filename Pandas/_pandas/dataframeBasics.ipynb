{
 "cells": [
  {
   "cell_type": "markdown",
   "metadata": {},
   "source": [
    "### PANDAS DATAFRAME\n",
    "\n",
    "The Pandas Dataframe is a two-dimensional, tabular data, table with rows and columns. \n",
    "\n",
    "<ul>\n",
    "<li><b>data</b>: The data to be stored in the Pandas Dataframe</li>\n",
    "<li><b>index</b>: The index values to be provided for the resultant frame.</li>\n",
    "<li><b>columns</b>: Set the column labels for the resultant frame if data doesnot mention before</li>\n",
    "<li><b>dtype</b>: It is the datatype and only a single type is allowed.</li>\n",
    "<li><b>copy</b>: To copy the input data</li>\n",
    "</ul>"
   ]
  },
  {
   "cell_type": "markdown",
   "metadata": {},
   "source": [
    "#### 1.Create a Pandas Dataframe"
   ]
  },
  {
   "cell_type": "code",
   "execution_count": 3,
   "metadata": {},
   "outputs": [
    {
     "name": "stdout",
     "output_type": "stream",
     "text": [
      "   Student  Rank  Marks\n",
      "R0    Amit     1     95\n",
      "R1    John     4     70\n",
      "R2   Jacob     3     80\n",
      "R3   David     5     60\n",
      "R4   Steve     2     90\n"
     ]
    }
   ],
   "source": [
    "import pandas as pd\n",
    "\n",
    "#Dataset\n",
    "data = {\n",
    "    'Student':[\"Amit\", \"John\",\"Jacobi\", \"David\", \"Steve\"],\n",
    "    'Rank': [1,4,3,5,2],\n",
    "    'Marks': [95, 70,80, 60, 90]\n",
    "}\n",
    "\n",
    "df = pd.DataFrame(data, index=['R0','R1', 'R2', 'R3', 'R4'])\n",
    "\n",
    "print(df)"
   ]
  },
  {
   "cell_type": "markdown",
   "metadata": {},
   "source": [
    "### 2.Accessing group of rows or columns in a pandas dataframe\n",
    "#### The <b>dataframae.loc()</b> is used "
   ]
  },
  {
   "cell_type": "code",
   "execution_count": 5,
   "metadata": {},
   "outputs": [
    {
     "name": "stdout",
     "output_type": "stream",
     "text": [
      "Original datframe:\n",
      "\n",
      "    Student  Rank  Marks\n",
      "R0    Amit     1     95\n",
      "R1    John     4     70\n",
      "R2   Jacob     3     80\n",
      "R3   David     5     60\n",
      "R4   Steve     2     90\n",
      "\n",
      "\n",
      "Value =  David\n"
     ]
    }
   ],
   "source": [
    "print(\"Original datframe:\\n\\n\",df)\n",
    "\n",
    "#accessing the value in the Student column corresponding to the row value\n",
    "\n",
    "print(\"\\n\\nValue = \",df.loc['R3','Student'])"
   ]
  },
  {
   "cell_type": "markdown",
   "metadata": {},
   "source": [
    "### 3.Accessing group of rows or columns by integer in a pandas dataframe\n",
    "#### The <b>dataframae.iloc()</b> is used "
   ]
  },
  {
   "cell_type": "code",
   "execution_count": 10,
   "metadata": {},
   "outputs": [
    {
     "name": "stdout",
     "output_type": "stream",
     "text": [
      "Dataframe:\n",
      "\n",
      "    Student  Rank  Marks\n",
      "R0    Amit     1     95\n",
      "R1    John     4     70\n",
      "R2   Jacob     3     80\n",
      "R3   David     5     60\n",
      "R4   Steve     2     90\n",
      "\n",
      "Accessing 3rd and 4th row:\n",
      "    Student  Rank  Marks\n",
      "R3   David     5     60\n",
      "R4   Steve     2     90\n"
     ]
    }
   ],
   "source": [
    "print(\"Dataframe:\\n\\n\", df)\n",
    "\n",
    "#Access using rows and column by integer position\n",
    "\n",
    "print(\"\\nAccessing 3rd and 4th row:\\n\", df.iloc[[3,4]])"
   ]
  },
  {
   "cell_type": "markdown",
   "metadata": {},
   "source": [
    "### 4.Naming own indexes in a pandas dataframe\n",
    "#### The <b>index</b> arguement is used "
   ]
  },
  {
   "cell_type": "code",
   "execution_count": 11,
   "metadata": {},
   "outputs": [
    {
     "name": "stdout",
     "output_type": "stream",
     "text": [
      "Datframe\n",
      "\n",
      "    Student  Rank  Marks\n",
      "R0    Amit     1     95\n",
      "R1    John     4     70\n",
      "R2   Jacob     3     80\n",
      "R3   David     5     60\n",
      "R4   Steve     2     90\n",
      "   Student  Rank  Marks\n",
      "R0    Amit     1     95\n",
      "R1    John     4     70\n",
      "R2   Jacob     3     80\n",
      "R3   David     5     60\n",
      "R4   Steve     2     90\n"
     ]
    }
   ],
   "source": [
    "print(\"Datframe\\n\\n\",df)\n",
    "\n",
    "#use the index arguement to set the index\n",
    "df = pd.DataFrame(data, index=['R0','R1', 'R2', 'R3', 'R4'])\n",
    "\n",
    "print(df)"
   ]
  },
  {
   "cell_type": "markdown",
   "metadata": {},
   "source": [
    "### 5. Iterate a pandas dataframe\n",
    "#### To iterate dataframe and display the column names, we use for loop"
   ]
  },
  {
   "cell_type": "code",
   "execution_count": 14,
   "metadata": {},
   "outputs": [
    {
     "name": "stdout",
     "output_type": "stream",
     "text": [
      "Dataframe:\n",
      "\n",
      "    Student  Rank  Marks\n",
      "R0    Amit     1     95\n",
      "R1    John     4     70\n",
      "R2   Jacob     3     80\n",
      "R3   David     5     60\n",
      "R4   Steve     2     90\n",
      "\n",
      "Displaying the columns:\n",
      "\n",
      "Student\n",
      "Rank\n",
      "Marks\n"
     ]
    }
   ],
   "source": [
    "print(\"Dataframe:\\n\\n\",df)\n",
    "\n",
    "print(\"\\nDisplaying the columns:\\n\")\n",
    "\n",
    "for col in df:\n",
    "    print(col)"
   ]
  }
 ],
 "metadata": {
  "kernelspec": {
   "display_name": ".venv",
   "language": "python",
   "name": "python3"
  },
  "language_info": {
   "codemirror_mode": {
    "name": "ipython",
    "version": 3
   },
   "file_extension": ".py",
   "mimetype": "text/x-python",
   "name": "python",
   "nbconvert_exporter": "python",
   "pygments_lexer": "ipython3",
   "version": "3.11.9"
  }
 },
 "nbformat": 4,
 "nbformat_minor": 2
}

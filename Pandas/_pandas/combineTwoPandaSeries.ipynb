{
 "cells": [
  {
   "cell_type": "markdown",
   "metadata": {},
   "source": [
    "### Combine Two Panda Series\n",
    "\n",
    "To combine two Pandas series into one in Python use the <b>combine()</b> method. It uses a specific function for the decision mentioned by the user as parameter of the <b>combine()</b> method."
   ]
  },
  {
   "cell_type": "code",
   "execution_count": 8,
   "metadata": {},
   "outputs": [
    {
     "name": "stdout",
     "output_type": "stream",
     "text": [
      "Series 1:  0     10\n",
      "1    200\n",
      "2    300\n",
      "3     40\n",
      "dtype: int64 \n",
      "\n",
      "Series 2:  0    100\n",
      "1     20\n",
      "2     30\n",
      "3    400\n",
      "dtype: int64\n"
     ]
    },
    {
     "data": {
      "text/plain": [
       "0    100\n",
       "1    200\n",
       "2    300\n",
       "3    400\n",
       "dtype: int64"
      ]
     },
     "execution_count": 8,
     "metadata": {},
     "output_type": "execute_result"
    }
   ],
   "source": [
    "import pandas as pd\n",
    "\n",
    "#data\n",
    "\n",
    "data1 = [10, 200, 300, 40]\n",
    "data2 = [100, 20, 30, 400]\n",
    "\n",
    "s1 = pd.Series(data1)\n",
    "s2 = pd.Series(data2)\n",
    "\n",
    "print(\"Series 1: \",s1,\"\\n\\nSeries 2: \",s2)\n",
    "def func(a,b):\n",
    "    if a>b:\n",
    "        return a\n",
    "    else:\n",
    "        return b\n",
    "\n",
    "#combine\n",
    "s1.combine(s2,func)\n",
    "\n",
    "\n"
   ]
  }
 ],
 "metadata": {
  "kernelspec": {
   "display_name": ".venv",
   "language": "python",
   "name": "python3"
  },
  "language_info": {
   "codemirror_mode": {
    "name": "ipython",
    "version": 3
   },
   "file_extension": ".py",
   "mimetype": "text/x-python",
   "name": "python",
   "nbconvert_exporter": "python",
   "pygments_lexer": "ipython3",
   "version": "3.11.9"
  }
 },
 "nbformat": 4,
 "nbformat_minor": 2
}

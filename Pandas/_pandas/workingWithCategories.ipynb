{
 "cells": [
  {
   "cell_type": "markdown",
   "metadata": {},
   "source": [
    "### Operations on categorical series"
   ]
  },
  {
   "cell_type": "markdown",
   "metadata": {},
   "source": [
    "#### 1. Append New Categories\n",
    "\n",
    "To append new categories use the <b>add_categories()</b> method in Python Pandas."
   ]
  },
  {
   "cell_type": "code",
   "execution_count": 18,
   "metadata": {},
   "outputs": [
    {
     "name": "stdout",
     "output_type": "stream",
     "text": [
      "\n",
      "Original Ctegorical Series: \n",
      " 0    a\n",
      "1    b\n",
      "2    c\n",
      "3    d\n",
      "dtype: category\n",
      "Categories (4, object): ['a', 'b', 'c', 'd']\n",
      "\n",
      "Updated: \n",
      " 0    a\n",
      "1    b\n",
      "2    c\n",
      "3    d\n",
      "dtype: category\n",
      "Categories (5, object): ['a', 'b', 'c', 'd', '3']\n"
     ]
    }
   ],
   "source": [
    "import pandas as pd\n",
    "\n",
    "data1 = ['a', 'b', 'c', 'd']\n",
    "\n",
    "s1 =  pd.Series(data1, dtype=\"category\")\n",
    "\n",
    "print(\"\\nOriginal Ctegorical Series: \\n\", s1)\n",
    "\n",
    "#append a category\n",
    "\n",
    "s1 = s1.cat.add_categories('3')\n",
    "\n",
    "print(\"\\nUpdated: \\n\",s1)"
   ]
  },
  {
   "cell_type": "markdown",
   "metadata": {},
   "source": [
    "#### 2. Remove a Categories\n",
    "\n",
    "To remove a category use the <b>remove_categories()</b> method in Python Pandas."
   ]
  },
  {
   "cell_type": "code",
   "execution_count": 19,
   "metadata": {},
   "outputs": [
    {
     "data": {
      "text/plain": [
       "0    a\n",
       "1    b\n",
       "2    c\n",
       "3    d\n",
       "dtype: category\n",
       "Categories (4, object): ['a', 'b', 'c', 'd']"
      ]
     },
     "execution_count": 19,
     "metadata": {},
     "output_type": "execute_result"
    }
   ],
   "source": [
    "s1 = s1.cat.remove_categories('3')\n",
    "s1"
   ]
  }
 ],
 "metadata": {
  "kernelspec": {
   "display_name": ".venv",
   "language": "python",
   "name": "python3"
  },
  "language_info": {
   "codemirror_mode": {
    "name": "ipython",
    "version": 3
   },
   "file_extension": ".py",
   "mimetype": "text/x-python",
   "name": "python",
   "nbconvert_exporter": "python",
   "pygments_lexer": "ipython3",
   "version": "3.11.9"
  }
 },
 "nbformat": 4,
 "nbformat_minor": 2
}

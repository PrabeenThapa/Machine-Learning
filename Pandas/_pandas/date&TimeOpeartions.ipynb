{
 "cells": [
  {
   "cell_type": "markdown",
   "metadata": {},
   "source": [
    "#### Date & Time Operations \n",
    "\n",
    "Operations:\n",
    "\n",
    "<ol>\n",
    "<li>Get the current date and time.</li>\n",
    "<li>Get the day of the week.</li>\n",
    "<li>Get the day of the year.</li>\n",
    "<li>Get the number of days in a month.</li>\n",
    "<li>Check if the year is a leap year.</li>\n",
    "<li>Check if the date is the last day of month.</li>\n",
    "<li>Check if the date is the first day of month.</li>\n",
    "<li>Check if the date is last day of the year.</li>\n",
    "<li>Check if the date is the first day of the year.</li>\n",
    "</ol>"
   ]
  },
  {
   "cell_type": "markdown",
   "metadata": {},
   "source": [
    "#### 1. Get The Current Date And Time\n",
    "\n",
    "The <b>Timestamp.now()</b> method is used to get the current date and time in local time zone."
   ]
  },
  {
   "cell_type": "code",
   "execution_count": 4,
   "metadata": {},
   "outputs": [
    {
     "name": "stdout",
     "output_type": "stream",
     "text": [
      "Current date and time:  2024-06-23 23:52:13.006532\n"
     ]
    }
   ],
   "source": [
    "import pandas as pd\n",
    "\n",
    "#current time\n",
    "\n",
    "timeStamp = pd.Timestamp.now()\n",
    "print(\"Current date and time: \",timeStamp )"
   ]
  },
  {
   "cell_type": "code",
   "execution_count": 5,
   "metadata": {},
   "outputs": [
    {
     "data": {
      "text/plain": [
       "6"
      ]
     },
     "execution_count": 5,
     "metadata": {},
     "output_type": "execute_result"
    }
   ],
   "source": [
    "# Get the day of the week\n",
    "\n",
    "timeStamp.dayofweek"
   ]
  },
  {
   "cell_type": "code",
   "execution_count": 6,
   "metadata": {},
   "outputs": [
    {
     "data": {
      "text/plain": [
       "175"
      ]
     },
     "execution_count": 6,
     "metadata": {},
     "output_type": "execute_result"
    }
   ],
   "source": [
    "# get the day of the year\n",
    "\n",
    "timeStamp.dayofyear"
   ]
  },
  {
   "cell_type": "code",
   "execution_count": 7,
   "metadata": {},
   "outputs": [
    {
     "data": {
      "text/plain": [
       "30"
      ]
     },
     "execution_count": 7,
     "metadata": {},
     "output_type": "execute_result"
    }
   ],
   "source": [
    "#get the number of days in month\n",
    "\n",
    "timeStamp.daysinmonth"
   ]
  },
  {
   "cell_type": "code",
   "execution_count": 9,
   "metadata": {},
   "outputs": [
    {
     "data": {
      "text/plain": [
       "True"
      ]
     },
     "execution_count": 9,
     "metadata": {},
     "output_type": "execute_result"
    }
   ],
   "source": [
    "#check if the year is leapyear\n",
    "\n",
    "timeStamp.is_leap_year\n"
   ]
  },
  {
   "cell_type": "code",
   "execution_count": 10,
   "metadata": {},
   "outputs": [
    {
     "data": {
      "text/plain": [
       "False"
      ]
     },
     "execution_count": 10,
     "metadata": {},
     "output_type": "execute_result"
    }
   ],
   "source": [
    "#check is the date is last date of month\n",
    "\n",
    "timeStamp.is_month_end"
   ]
  },
  {
   "cell_type": "code",
   "execution_count": 11,
   "metadata": {},
   "outputs": [
    {
     "data": {
      "text/plain": [
       "False"
      ]
     },
     "execution_count": 11,
     "metadata": {},
     "output_type": "execute_result"
    }
   ],
   "source": [
    "#check if the date is first day of the year\n",
    "\n",
    "timeStamp.is_year_start"
   ]
  }
 ],
 "metadata": {
  "kernelspec": {
   "display_name": ".venv",
   "language": "python",
   "name": "python3"
  },
  "language_info": {
   "codemirror_mode": {
    "name": "ipython",
    "version": 3
   },
   "file_extension": ".py",
   "mimetype": "text/x-python",
   "name": "python",
   "nbconvert_exporter": "python",
   "pygments_lexer": "ipython3",
   "version": "3.11.9"
  }
 },
 "nbformat": 4,
 "nbformat_minor": 2
}
